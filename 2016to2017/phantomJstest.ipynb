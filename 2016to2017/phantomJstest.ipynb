{
 "cells": [
  {
   "cell_type": "code",
   "execution_count": 18,
   "metadata": {
    "collapsed": false,
    "deletable": true,
    "editable": true
   },
   "outputs": [
    {
     "name": "stdout",
     "output_type": "stream",
     "text": [
      "每天花5分鐘做麵包吧！ @ 孟老師烘焙園地:: 隨意窩Xuite日誌\n",
      "None\n",
      "每天花5分鐘做麵包吧！ @ 孟老師烘焙園地:: 隨意窩Xuite日誌\n",
      "http://blog.xuite.net/jackie.baking/meng/19136831-%E6%AF%8F%E5%A4%A9%E8%8A%B1+5%E5%88%86%E9%90%98%E5%81%9A%E9%BA%B5%E5%8C%85%E5%90%A7%EF%BC%81\n",
      "每天花5分鐘做麵包吧！ @ 孟老師烘焙園地:: 隨意窩Xuite日誌\n",
      "None\n",
      "每天花5分鐘做麵包吧！ @ 孟老師烘焙園地:: 隨意窩Xuite日誌\n",
      "http://blog.xuite.net/jackie.baking/meng/19136831-%E6%AF%8F%E5%A4%A9%E8%8A%B1+5%E5%88%86%E9%90%98%E5%81%9A%E9%BA%B5%E5%8C%85%E5%90%A7%EF%BC%81\n",
      "[ 桃園南崁] 野上麵包坊~ 不秒殺的好吃麵包@ bobowin旅行攝影生活 ...\n",
      "None\n",
      "[ 桃園南崁] 野上麵包坊~ 不秒殺的好吃麵包@ bobowin旅行攝影生活 ...\n",
      "http://blog.xuite.net/bobowin/me/63916030-%5B+%E6%A1%83%E5%9C%92%E5%8D%97%E5%B4%81+%5D+%E9%87%8E%E4%B8%8A%E9%BA%B5%E5%8C%85%E5%9D%8A+~+%E4%B8%8D%E7%A7%92%E6%AE%BA%E7%9A%84%E5%A5%BD%E5%90%83%E9%BA%B5%E5%8C%85\n",
      "[ 桃園南崁] 野上麵包坊~ 不秒殺的好吃麵包@ bobowin旅行攝影生活 ...\n",
      "None\n",
      "[ 桃園南崁] 野上麵包坊~ 不秒殺的好吃麵包@ bobowin旅行攝影生活 ...\n",
      "http://blog.xuite.net/bobowin/me/63916030-%5B+%E6%A1%83%E5%9C%92%E5%8D%97%E5%B4%81+%5D+%E9%87%8E%E4%B8%8A%E9%BA%B5%E5%8C%85%E5%9D%8A+~+%E4%B8%8D%E7%A7%92%E6%AE%BA%E7%9A%84%E5%A5%BD%E5%90%83%E9%BA%B5%E5%8C%85\n",
      "麵包問題彙整@ Auster 隨手亂彈:: 隨意窩Xuite日誌\n",
      "None\n",
      "麵包問題彙整@ Auster 隨手亂彈:: 隨意窩Xuite日誌\n",
      "http://blog.xuite.net/auster.lai/twblog/123089264-%E9%BA%B5%E5%8C%85%E5%95%8F%E9%A1%8C%E5%BD%99%E6%95%B4\n",
      "麵包問題彙整@ Auster 隨手亂彈:: 隨意窩Xuite日誌\n",
      "None\n",
      "麵包問題彙整@ Auster 隨手亂彈:: 隨意窩Xuite日誌\n",
      "http://blog.xuite.net/auster.lai/twblog/123089264-%E9%BA%B5%E5%8C%85%E5%95%8F%E9%A1%8C%E5%BD%99%E6%95%B4\n",
      "【台北松山區】味覺的感動麵包坊Émotions De goût。日本天然酵母麵包 ...\n",
      "None\n",
      "【台北松山區】味覺的感動麵包坊Émotions De goût。日本天然酵母麵包 ...\n",
      "http://blog.xuite.net/sylvia128/blog/448472448-%E3%80%90%E5%8F%B0%E5%8C%97%E6%9D%BE%E5%B1%B1%E5%8D%80%E3%80%91%E5%91%B3%E8%A6%BA%E7%9A%84%E6%84%9F%E5%8B%95%E9%BA%B5%E5%8C%85%E5%9D%8A+%C3%89motions+De+go%C3%BBt%E3%80%82%E6%97%A5%E6%9C%AC%E5%A4%A9%E7%84%B6%E9%85%B5%E6%AF%8D%E9%BA%B5%E5%8C%85%E5%A4%A7%E5%B8%AB%E8%A7%A3%E5%AF%86+%E2%80%9C%E4%B8%96%E7%95%8C%E4%B8%8D%E5%AD%98%E5%9C%A8%E7%9A%84%E9%BA%B5%E5%8C%85%E2%80%9D\n",
      "【台北松山區】味覺的感動麵包坊Émotions De goût。日本天然酵母麵包 ...\n",
      "None\n",
      "【台北松山區】味覺的感動麵包坊Émotions De goût。日本天然酵母麵包 ...\n",
      "http://blog.xuite.net/sylvia128/blog/448472448-%E3%80%90%E5%8F%B0%E5%8C%97%E6%9D%BE%E5%B1%B1%E5%8D%80%E3%80%91%E5%91%B3%E8%A6%BA%E7%9A%84%E6%84%9F%E5%8B%95%E9%BA%B5%E5%8C%85%E5%9D%8A+%C3%89motions+De+go%C3%BBt%E3%80%82%E6%97%A5%E6%9C%AC%E5%A4%A9%E7%84%B6%E9%85%B5%E6%AF%8D%E9%BA%B5%E5%8C%85%E5%A4%A7%E5%B8%AB%E8%A7%A3%E5%AF%86+%E2%80%9C%E4%B8%96%E7%95%8C%E4%B8%8D%E5%AD%98%E5%9C%A8%E7%9A%84%E9%BA%B5%E5%8C%85%E2%80%9D\n",
      "[南京復興] 味覺的感動：日本麵包大師志賀勝榮與弟子Lisa的美味烘焙 ...\n",
      "None\n",
      "[南京復興] 味覺的感動：日本麵包大師志賀勝榮與弟子Lisa的美味烘焙 ...\n",
      "http://blog.xuite.net/maomi/Food01/446617389-%5B%E5%8D%97%E4%BA%AC%E5%BE%A9%E8%88%88%5D+%E5%91%B3%E8%A6%BA%E7%9A%84%E6%84%9F%E5%8B%95%EF%BC%9A%E6%97%A5%E6%9C%AC%E9%BA%B5%E5%8C%85%E5%A4%A7%E5%B8%AB%E5%BF%97%E8%B3%80%E5%8B%9D%E6%A6%AE%E8%88%87%E5%BC%9F%E5%AD%90Lisa%E7%9A%84%E7%BE%8E%E5%91%B3%E7%83%98%E7%84%99%E5%9D%8A+2827+(1%E6%98%9F)\n",
      "[南京復興] 味覺的感動：日本麵包大師志賀勝榮與弟子Lisa的美味烘焙 ...\n",
      "None\n",
      "[南京復興] 味覺的感動：日本麵包大師志賀勝榮與弟子Lisa的美味烘焙 ...\n",
      "http://blog.xuite.net/maomi/Food01/446617389-%5B%E5%8D%97%E4%BA%AC%E5%BE%A9%E8%88%88%5D+%E5%91%B3%E8%A6%BA%E7%9A%84%E6%84%9F%E5%8B%95%EF%BC%9A%E6%97%A5%E6%9C%AC%E9%BA%B5%E5%8C%85%E5%A4%A7%E5%B8%AB%E5%BF%97%E8%B3%80%E5%8B%9D%E6%A6%AE%E8%88%87%E5%BC%9F%E5%AD%90Lisa%E7%9A%84%E7%BE%8E%E5%91%B3%E7%83%98%E7%84%99%E5%9D%8A+2827+(1%E6%98%9F)\n",
      "東京自由行-橫濱-麵包超人博物館@ 生活的點點滴滴:: 隨意窩Xuite日誌\n",
      "None\n",
      "東京自由行-橫濱-麵包超人博物館@ 生活的點點滴滴:: 隨意窩Xuite日誌\n",
      "http://blog.xuite.net/junny.tsai/2011001/44667021-%E6%9D%B1%E4%BA%AC%E8%87%AA%E7%94%B1%E8%A1%8C-%E6%A9%AB%E6%BF%B1-%E9%BA%B5%E5%8C%85%E8%B6%85%E4%BA%BA%E5%8D%9A%E7%89%A9%E9%A4%A8\n",
      "東京自由行-橫濱-麵包超人博物館@ 生活的點點滴滴:: 隨意窩Xuite日誌\n",
      "None\n",
      "東京自由行-橫濱-麵包超人博物館@ 生活的點點滴滴:: 隨意窩Xuite日誌\n",
      "http://blog.xuite.net/junny.tsai/2011001/44667021-%E6%9D%B1%E4%BA%AC%E8%87%AA%E7%94%B1%E8%A1%8C-%E6%A9%AB%E6%BF%B1-%E9%BA%B5%E5%8C%85%E8%B6%85%E4%BA%BA%E5%8D%9A%E7%89%A9%E9%A4%A8\n",
      "巴西里約熱內盧(九) Rio de Janeiro Pão de Açúcar糖麵包山夜景 ...\n",
      "None\n",
      "巴西里約熱內盧(九) Rio de Janeiro Pão de Açúcar糖麵包山夜景 ...\n",
      "http://blog.xuite.net/silentsand/blog/198699328-%E5%B7%B4%E8%A5%BF%E9%87%8C%E7%B4%84%E7%86%B1%E5%85%A7%E7%9B%A7(%E4%B9%9D)+Rio+de+Janeiro+%E2%94%80+P%C3%A3o+de+A%C3%A7%C3%BAcar%E7%B3%96%E9%BA%B5%E5%8C%85%E5%B1%B1%E5%A4%9C%E6%99%AF\n",
      "巴西里約熱內盧(九) Rio de Janeiro Pão de Açúcar糖麵包山夜景 ...\n",
      "None\n",
      "巴西里約熱內盧(九) Rio de Janeiro Pão de Açúcar糖麵包山夜景 ...\n",
      "http://blog.xuite.net/silentsand/blog/198699328-%E5%B7%B4%E8%A5%BF%E9%87%8C%E7%B4%84%E7%86%B1%E5%85%A7%E7%9B%A7(%E4%B9%9D)+Rio+de+Janeiro+%E2%94%80+P%C3%A3o+de+A%C3%A7%C3%BAcar%E7%B3%96%E9%BA%B5%E5%8C%85%E5%B1%B1%E5%A4%9C%E6%99%AF\n",
      "法國魔杖麵包( 非蒸氣烤箱烘烤技法) @ 妃娟與大、小拉拉的網路日誌 ...\n",
      "None\n",
      "法國魔杖麵包( 非蒸氣烤箱烘烤技法) @ 妃娟與大、小拉拉的網路日誌 ...\n",
      "http://blog.xuite.net/jane7443/bake/52551069-%E6%B3%95%E5%9C%8B%E9%AD%94%E6%9D%96%E9%BA%B5%E5%8C%85(+%E9%9D%9E%E8%92%B8%E6%B0%A3%E7%83%A4%E7%AE%B1%E7%83%98%E7%83%A4%E6%8A%80%E6%B3%95)\n",
      "法國魔杖麵包( 非蒸氣烤箱烘烤技法) @ 妃娟與大、小拉拉的網路日誌 ...\n",
      "None\n",
      "法國魔杖麵包( 非蒸氣烤箱烘烤技法) @ 妃娟與大、小拉拉的網路日誌 ...\n",
      "http://blog.xuite.net/jane7443/bake/52551069-%E6%B3%95%E5%9C%8B%E9%AD%94%E6%9D%96%E9%BA%B5%E5%8C%85(+%E9%9D%9E%E8%92%B8%E6%B0%A3%E7%83%A4%E7%AE%B1%E7%83%98%E7%83%A4%E6%8A%80%E6%B3%95)\n",
      "苗栗頭份香草田園柴燒窯烤麵包天然安心食材手工製作美味麵包 ...\n",
      "None\n",
      "苗栗頭份香草田園柴燒窯烤麵包天然安心食材手工製作美味麵包 ...\n",
      "http://blog.xuite.net/r7750176kimo/twblog/242635647-%E8%8B%97%E6%A0%97%E9%A0%AD%E4%BB%BD+%E9%A6%99%E8%8D%89%E7%94%B0%E5%9C%92%E6%9F%B4%E7%87%92%E7%AA%AF%E7%83%A4%E9%BA%B5%E5%8C%85+%E5%A4%A9%E7%84%B6%E5%AE%89%E5%BF%83%E9%A3%9F%E6%9D%90+%E6%89%8B%E5%B7%A5%E8%A3%BD%E4%BD%9C+%E7%BE%8E%E5%91%B3%E9%BA%B5%E5%8C%85\n",
      "苗栗頭份香草田園柴燒窯烤麵包天然安心食材手工製作美味麵包 ...\n",
      "None\n",
      "苗栗頭份香草田園柴燒窯烤麵包天然安心食材手工製作美味麵包 ...\n",
      "http://blog.xuite.net/r7750176kimo/twblog/242635647-%E8%8B%97%E6%A0%97%E9%A0%AD%E4%BB%BD+%E9%A6%99%E8%8D%89%E7%94%B0%E5%9C%92%E6%9F%B4%E7%87%92%E7%AA%AF%E7%83%A4%E9%BA%B5%E5%8C%85+%E5%A4%A9%E7%84%B6%E5%AE%89%E5%BF%83%E9%A3%9F%E6%9D%90+%E6%89%8B%E5%B7%A5%E8%A3%BD%E4%BD%9C+%E7%BE%8E%E5%91%B3%E9%BA%B5%E5%8C%85\n",
      "彌月蛋糕試吃-09 麵包劇場意猶未盡的帕瑪森舒芙蕾(半價試吃 ...\n",
      "None\n",
      "彌月蛋糕試吃-09 麵包劇場意猶未盡的帕瑪森舒芙蕾(半價試吃 ...\n",
      "http://blog.xuite.net/slvachi/wretch/371367676-%E5%BD%8C%E6%9C%88%E8%9B%8B%E7%B3%95%E8%A9%A6%E5%90%83-09+%E9%BA%B5%E5%8C%85%E5%8A%87%E5%A0%B4+%E6%84%8F%E7%8C%B6%E6%9C%AA%E7%9B%A1%E7%9A%84%E5%B8%95%E7%91%AA%E6%A3%AE%E8%88%92%E8%8A%99%E8%95%BE+(%E5%8D%8A%E5%83%B9%E8%A9%A6%E5%90%83)\n",
      "彌月蛋糕試吃-09 麵包劇場意猶未盡的帕瑪森舒芙蕾(半價試吃 ...\n",
      "None\n",
      "彌月蛋糕試吃-09 麵包劇場意猶未盡的帕瑪森舒芙蕾(半價試吃 ...\n",
      "http://blog.xuite.net/slvachi/wretch/371367676-%E5%BD%8C%E6%9C%88%E8%9B%8B%E7%B3%95%E8%A9%A6%E5%90%83-09+%E9%BA%B5%E5%8C%85%E5%8A%87%E5%A0%B4+%E6%84%8F%E7%8C%B6%E6%9C%AA%E7%9B%A1%E7%9A%84%E5%B8%95%E7%91%AA%E6%A3%AE%E8%88%92%E8%8A%99%E8%95%BE+(%E5%8D%8A%E5%83%B9%E8%A9%A6%E5%90%83)\n",
      "   \n",
      "None\n",
      " \n",
      "None\n",
      "   \n",
      "None\n",
      " \n",
      "None\n",
      "\n",
      "None\n",
      "\n",
      "None\n"
     ]
    }
   ],
   "source": [
    "import requests\n",
    "from bs4 import BeautifulSoup\n",
    "from selenium import webdriver\n",
    "\n",
    "driver=webdriver.PhantomJS(executable_path=r'E://phantomjs/bin/phantomjs')\n",
    "payload={'query':'麵包','type':'search'}\n",
    "driver.get('https://blog.xuite.net/index_next.php?query=%E9%BA%B5%E5%8C%85&type=search')\n",
    "pageSource = driver.page_source\n",
    "#print(pageSource)\n",
    "soup = BeautifulSoup (pageSource, \"html5lib\")\n",
    "for item in soup.select('.gs-title'):\n",
    "    print (item.text)\n",
    "    print (item.get('href'))\n",
    "    "
   ]
  },
  {
   "cell_type": "code",
   "execution_count": null,
   "metadata": {
    "collapsed": true,
    "deletable": true,
    "editable": true
   },
   "outputs": [],
   "source": []
  },
  {
   "cell_type": "code",
   "execution_count": null,
   "metadata": {
    "collapsed": true,
    "deletable": true,
    "editable": true
   },
   "outputs": [],
   "source": []
  },
  {
   "cell_type": "code",
   "execution_count": null,
   "metadata": {
    "collapsed": true,
    "deletable": true,
    "editable": true
   },
   "outputs": [],
   "source": []
  }
 ],
 "metadata": {
  "kernelspec": {
   "display_name": "Python 3",
   "language": "python",
   "name": "python3"
  },
  "language_info": {
   "codemirror_mode": {
    "name": "ipython",
    "version": 3
   },
   "file_extension": ".py",
   "mimetype": "text/x-python",
   "name": "python",
   "nbconvert_exporter": "python",
   "pygments_lexer": "ipython3",
   "version": "3.6.0"
  }
 },
 "nbformat": 4,
 "nbformat_minor": 2
}
