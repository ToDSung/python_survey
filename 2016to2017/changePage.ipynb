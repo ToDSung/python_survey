{
 "cells": [
  {
   "cell_type": "code",
   "execution_count": 16,
   "metadata": {
    "collapsed": false,
    "deletable": true,
    "editable": true
   },
   "outputs": [
    {
     "name": "stdout",
     "output_type": "stream",
     "text": [
      "在家做出專業麵包：養生雜糧麵包(上)\n",
      "http://redirect.pixnet.tw/search.php?q=%E9%BA%B5%E5%8C%85&url=http%3A%2F%2Fcook2010.pixnet.net%2Fblog%2Fpost%2F55777218\n",
      "麵包！麵包！麵包機！！\n",
      "http://redirect.pixnet.tw/search.php?q=%E9%BA%B5%E5%8C%85&url=http%3A%2F%2Fcrazycat1130.pixnet.net%2Fblog%2Fpost%2F31162083\n",
      "麵包機\n",
      "http://redirect.pixnet.tw/search.php?q=%E9%BA%B5%E5%8C%85&url=http%3A%2F%2Fshalong0724.pixnet.net%2Fblog%2Fpost%2F22405368\n",
      "麵包機@麵包姬（NO.9~16）\n",
      "http://redirect.pixnet.tw/search.php?q=%E9%BA%B5%E5%8C%85&url=http%3A%2F%2Fminnie97923.pixnet.net%2Fblog%2Fpost%2F173006085\n",
      "麵包機吐司\n",
      "http://redirect.pixnet.tw/search.php?q=%E9%BA%B5%E5%8C%85&url=http%3A%2F%2Farie0118.pixnet.net%2Fblog%2Fpost%2F29108949\n",
      "★台南‧鳥麵包～寶寶的第一口麵包\n",
      "http://redirect.pixnet.tw/search.php?q=%E9%BA%B5%E5%8C%85&url=http%3A%2F%2Fcleopatraworks.pixnet.net%2Fblog%2Fpost%2F49508096\n",
      "【Bread】米麵包\n",
      "http://redirect.pixnet.tw/search.php?q=%E9%BA%B5%E5%8C%85&url=http%3A%2F%2Fvanessalin.pixnet.net%2Fblog%2Fpost%2F29549405\n",
      "『麵包機』這回不烤麵包，來烤香腸~!!\n",
      "http://redirect.pixnet.tw/search.php?q=%E9%BA%B5%E5%8C%85&url=http%3A%2F%2Fzoone20.pixnet.net%2Fblog%2Fpost%2F39549121\n",
      "用麵包機做麵包\n",
      "http://redirect.pixnet.tw/search.php?q=%E9%BA%B5%E5%8C%85&url=http%3A%2F%2Femom.pixnet.net%2Fblog%2Fpost%2F4989490\n",
      "麵包蟲的成長\n",
      "http://redirect.pixnet.tw/search.php?q=%E9%BA%B5%E5%8C%85&url=http%3A%2F%2Fspv521314.pixnet.net%2Fblog%2Fpost%2F321581165\n",
      "===========\n",
      "【烘焙】麵包機做巧克力麵包。\n",
      "http://redirect.pixnet.tw/search.php?q=%E9%BA%B5%E5%8C%85&url=http%3A%2F%2Fchris8106.pixnet.net%2Fblog%2Fpost%2F42757276\n",
      "用麵包機輕鬆做麵包\n",
      "http://redirect.pixnet.tw/search.php?q=%E9%BA%B5%E5%8C%85&url=http%3A%2F%2Favymama.pixnet.net%2Fblog%2Fpost%2F42679399\n",
      "［敗家］Panasonic SD-BMS 105T 麵包機\n",
      "http://redirect.pixnet.tw/search.php?q=%E9%BA%B5%E5%8C%85&url=http%3A%2F%2Fhanacat.pixnet.net%2Fblog%2Fpost%2F43048630\n",
      "胖鍋 MBG-010 麵包機開箱\n",
      "http://redirect.pixnet.tw/search.php?q=%E9%BA%B5%E5%8C%85&url=http%3A%2F%2Fjoshwu.pixnet.net%2Fblog%2Fpost%2F40729909-%25e8%2583%2596%25e9%258d%258b-mbg-010-%25e9%25ba%25b5%25e5%258c%2585%25e6%25a9%259f%25e9%2596%258b%25e7%25ae%25b1\n",
      "巧媽的新玩具-麵包機\n",
      "http://redirect.pixnet.tw/search.php?q=%E9%BA%B5%E5%8C%85&url=http%3A%2F%2Fiddm6704.pixnet.net%2Fblog%2Fpost%2F88523510\n",
      "麵包機做麵包的終極配方\n",
      "http://redirect.pixnet.tw/search.php?q=%E9%BA%B5%E5%8C%85&url=http%3A%2F%2Fdenisechen.pixnet.net%2Fblog%2Fpost%2F26001012\n",
      "紅酒桂圓麵包\n",
      "http://redirect.pixnet.tw/search.php?q=%E9%BA%B5%E5%8C%85&url=http%3A%2F%2Fanitat7758.pixnet.net%2Fblog%2Fpost%2F397054019\n",
      "【麵包機習作】刺蝟紅豆麵包 + 瓢蟲巧克力麵包 心得小筆記\n",
      "http://redirect.pixnet.tw/search.php?q=%E9%BA%B5%E5%8C%85&url=http%3A%2F%2Fnewbetty.pixnet.net%2Fblog%2Fpost%2F42907117\n",
      "麵包機@麵包姬（NO.51~55）進化搞鋼版～紅豆麵包＆雙色吐司\n",
      "http://redirect.pixnet.tw/search.php?q=%E9%BA%B5%E5%8C%85&url=http%3A%2F%2Fminnie97923.pixnet.net%2Fblog%2Fpost%2F174626550\n",
      "麵包機玩烘焙~麵包失敗的解決方法\n",
      "http://redirect.pixnet.tw/search.php?q=%E9%BA%B5%E5%8C%85&url=http%3A%2F%2Fyihua1005.pixnet.net%2Fblog%2Fpost%2F45412753-%25e9%25ba%25b5%25e5%258c%2585%25e6%25a9%259f%25e7%258e%25a9%25e7%2583%2598%25e7%2584%2599%257e%25e9%25ba%25b5%25e5%258c%2585%25e5%25a4%25b1%25e6%2595%2597%25e7%259a%2584%25e8%25a7%25a3%25e6%25b1%25ba%25e6%2596%25b9%25e6%25b3%2595\n",
      "===========\n",
      "[麵包機T105]英式白吐司\n",
      "http://redirect.pixnet.tw/search.php?q=%E9%BA%B5%E5%8C%85&url=http%3A%2F%2Fwinny0713.pixnet.net%2Fblog%2Fpost%2F174463398\n",
      "[敗物] 全自動製麵包機\n",
      "http://redirect.pixnet.tw/search.php?q=%E9%BA%B5%E5%8C%85&url=http%3A%2F%2Fnatasha.pixnet.net%2Fblog%2Fpost%2F31816565\n",
      "麵包機操作記錄\n",
      "http://redirect.pixnet.tw/search.php?q=%E9%BA%B5%E5%8C%85&url=http%3A%2F%2Floveiskate.pixnet.net%2Fblog%2Fpost%2F40588135\n",
      "麵包機料理NO.133：創意鹹口味台式麵包\n",
      "http://redirect.pixnet.tw/search.php?q=%E9%BA%B5%E5%8C%85&url=http%3A%2F%2Fmarieli518.pixnet.net%2Fblog%2Fpost%2F29938883\n",
      "麵包機料理NO.100：玫瑰‧玫瑰‧我愛你\n",
      "http://redirect.pixnet.tw/search.php?q=%E9%BA%B5%E5%8C%85&url=http%3A%2F%2Fmarieli518.pixnet.net%2Fblog%2Fpost%2F29871938\n",
      "麵包機料理NO.109：奶酥小牛角麵包 (小烤箱的實驗)\n",
      "http://redirect.pixnet.tw/search.php?q=%E9%BA%B5%E5%8C%85&url=http%3A%2F%2Fmarieli518.pixnet.net%2Fblog%2Fpost%2F29890169\n",
      "美女廚房玩具麵包機\n",
      "http://redirect.pixnet.tw/search.php?q=%E9%BA%B5%E5%8C%85&url=http%3A%2F%2Fbonnie8nz.pixnet.net%2Fblog%2Fpost%2F22096611\n",
      "林家廚房第一彈~~ 麵包機做麵包 (補完圖了)\n",
      "http://redirect.pixnet.tw/search.php?q=%E9%BA%B5%E5%8C%85&url=http%3A%2F%2Fjaqueline711.pixnet.net%2Fblog%2Fpost%2F22223533\n",
      "密技：麵包機大絕招！快來長知識！\n",
      "http://redirect.pixnet.tw/search.php?q=%E9%BA%B5%E5%8C%85&url=http%3A%2F%2Fms.pixnet.net%2Fblog%2Fpost%2F40163401\n",
      "【動手DIY】拿出塵封已久的麵包機做麵包。葡萄吐司\n",
      "http://redirect.pixnet.tw/search.php?q=%E9%BA%B5%E5%8C%85&url=http%3A%2F%2Fsusan680323.pixnet.net%2Fblog%2Fpost%2F39949645\n",
      "===========\n"
     ]
    }
   ],
   "source": [
    "import requests\n",
    "import time\n",
    "from bs4 import BeautifulSoup\n",
    "from selenium import webdriver\n",
    "\n",
    "driver=webdriver.PhantomJS(executable_path=r'E://phantomjs/bin/phantomjs')\n",
    "payload={'q':'麵包','page':'1'}\n",
    "url='https://www.pixnet.net/searcharticle?q=%E9%BA%B5%E5%8C%85&page=1'\n",
    "driver.get(url)\n",
    "\n",
    "#print(pageSource)\n",
    "\n",
    "page=2\n",
    "while(page<5):\n",
    "    pageSource = driver.page_source\n",
    "    soup = BeautifulSoup (pageSource, \"html5lib\")\n",
    "    for item in soup.select('.search-list'):\n",
    "        for link in item.select('.search-title'):\n",
    "            print (link.text)#找標題\n",
    "            print (link.find('a')['href'])#找網址\n",
    "    driver.find_element_by_link_text(page).click() #點擊下一頁   \n",
    "    page=page+1\n",
    "    time.sleep(2)\n",
    "    print (\"===========\")\n",
    "    \n",
    "driver.close();"
   ]
  },
  {
   "cell_type": "code",
   "execution_count": null,
   "metadata": {
    "collapsed": true,
    "deletable": true,
    "editable": true
   },
   "outputs": [],
   "source": []
  }
 ],
 "metadata": {
  "kernelspec": {
   "display_name": "Python 3",
   "language": "python",
   "name": "python3"
  },
  "language_info": {
   "codemirror_mode": {
    "name": "ipython",
    "version": 3
   },
   "file_extension": ".py",
   "mimetype": "text/x-python",
   "name": "python",
   "nbconvert_exporter": "python",
   "pygments_lexer": "ipython3",
   "version": "3.6.0"
  }
 },
 "nbformat": 4,
 "nbformat_minor": 2
}
