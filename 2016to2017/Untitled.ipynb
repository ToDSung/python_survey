{
 "cells": [
  {
   "cell_type": "code",
   "execution_count": 1,
   "metadata": {
    "collapsed": false
   },
   "outputs": [
    {
     "name": "stdout",
     "output_type": "stream",
     "text": [
      "['相贈', '亮敞', '滿滿的', '驚人', '豪華', '暢快', '豪邁', '醉了', '醉人', '超甜', '肥美', '柔軟', '入口即化', '奔放', '飽滿', '震撼', '巨大', '免煩惱', '彈牙', '脆勁', '過癮', '爽快', '粉嫩', '緊緻', '極品', '柔嫩', '肥嫩', '真心', '破錶', '破表', '爆表', '大心', '苦甘', '腥甜', '迷人', '一拍即合', '享受', '吸睛', '霸氣']\n"
     ]
    }
   ],
   "source": [
    "import jieba\n",
    "import jieba.analyse\n",
    "\n",
    "with open('D:/xampp/htdocs/project/python/positive_new.txt', 'r+',encoding='UTF-8') as positive:\n",
    "    pos=[]\n",
    "    for line in positive:\n",
    "        pos.append(line.strip('\\ufeff').strip())\n",
    "    positive.close()\n",
    "sorted(pos)\n",
    "print(pos)"
   ]
  },
  {
   "cell_type": "code",
   "execution_count": null,
   "metadata": {
    "collapsed": true
   },
   "outputs": [],
   "source": []
  },
  {
   "cell_type": "code",
   "execution_count": null,
   "metadata": {
    "collapsed": true
   },
   "outputs": [],
   "source": []
  }
 ],
 "metadata": {
  "kernelspec": {
   "display_name": "Python 3",
   "language": "python",
   "name": "python3"
  },
  "language_info": {
   "codemirror_mode": {
    "name": "ipython",
    "version": 3
   },
   "file_extension": ".py",
   "mimetype": "text/x-python",
   "name": "python",
   "nbconvert_exporter": "python",
   "pygments_lexer": "ipython3",
   "version": "3.6.0"
  }
 },
 "nbformat": 4,
 "nbformat_minor": 2
}
