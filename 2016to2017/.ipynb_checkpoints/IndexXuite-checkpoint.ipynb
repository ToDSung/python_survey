{
 "cells": [
  {
   "cell_type": "code",
   "execution_count": 50,
   "metadata": {
    "collapsed": false
   },
   "outputs": [],
   "source": [
    "import MySQLdb\n",
    "import requests\n",
    "from bs4 import BeautifulSoup\n",
    "\n",
    "conn = MySQLdb.connect(host=\"localhost\", user=\"root\", passwd=\"\", db=\"python\",charset='utf8')#連結資料庫\n",
    "cur = conn.cursor()\n",
    "sqli = \"insert into indexxuite (tag,search_title,search_author,search_href,article_picture) values (%s,%s,%s,%s,%s)\" #選擇資料表\n",
    "tag='美食'\n",
    "res=requests.get('http://www.a.blog.xuite.net/new_index.php?type=put_list_roller&tag_id=15')\n",
    "res.encoding='utf-8'\n",
    "soup=BeautifulSoup (res.text,\"lxml\")\n",
    "\n",
    "\n",
    "\n",
    "for imgs in soup.select('.p1'):\n",
    "    #文章圖片\n",
    "    article_picture=imgs.find('img').get('src')\n",
    "    #網址\n",
    "    search_href=imgs.find('a').get('href')\n",
    "    res2=requests.get(search_href)\n",
    "    res2.encoding='utf-8'\n",
    "    soup2=BeautifulSoup (res2.text,\"lxml\")\n",
    "    article= soup2.select('.ArticleContent')\n",
    "    #標題\n",
    "    search_title=article[0].select('.titlename')[0].text\n",
    "    hrefsplit=search_href.split('/')\n",
    "    #作者\n",
    "    search_author=hrefsplit[3]\n",
    "    #作者網址\n",
    "    #author_href='http://xuite.net/'+search_author\n",
    "    cur.execute(sqli,(tag,search_title,search_author,search_href,article_picture)) #存入資料庫    \n",
    "    conn.commit()\n",
    "       \n",
    "\n",
    "cur.close() #斷開連結\n",
    "conn.close()    \n",
    "\n",
    "    \n",
    "    \n",
    "\n",
    "\n",
    "\n",
    "\n"
   ]
  },
  {
   "cell_type": "code",
   "execution_count": null,
   "metadata": {
    "collapsed": true
   },
   "outputs": [],
   "source": []
  },
  {
   "cell_type": "code",
   "execution_count": null,
   "metadata": {
    "collapsed": true
   },
   "outputs": [],
   "source": []
  }
 ],
 "metadata": {
  "kernelspec": {
   "display_name": "Python 3",
   "language": "python",
   "name": "python3"
  },
  "language_info": {
   "codemirror_mode": {
    "name": "ipython",
    "version": 3
   },
   "file_extension": ".py",
   "mimetype": "text/x-python",
   "name": "python",
   "nbconvert_exporter": "python",
   "pygments_lexer": "ipython3",
   "version": "3.6.0"
  }
 },
 "nbformat": 4,
 "nbformat_minor": 2
}
