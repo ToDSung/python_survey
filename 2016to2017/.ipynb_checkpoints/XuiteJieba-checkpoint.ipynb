{
 "cells": [
  {
   "cell_type": "code",
   "execution_count": 34,
   "metadata": {
    "collapsed": false,
    "deletable": true,
    "editable": true
   },
   "outputs": [
    {
     "name": "stderr",
     "output_type": "stream",
     "text": [
      "Building prefix dict from C:\\Users\\wlunareve\\python\\dict.txt.big ...\n",
      "Loading model from cache C:\\Users\\WLUNAR~1\\AppData\\Local\\Temp\\jieba.ube0c4e67d291f94013d7023df2b3161e.cache\n",
      "Loading model cost 1.415 seconds.\n",
      "Prefix dict has been built succesfully.\n"
     ]
    },
    {
     "name": "stdout",
     "output_type": "stream",
     "text": [
      "['超', '太', '真', '', '超美', '很美', '好美', '太大', '好大', '很大', '超大', '真大', '太好', '真好', '超好', '太便宜', '', '吸睛', '歐耶', '過癮', '齊全', '絕配', '極致', '享受', '滿足', '有感', '力推', '佛心', '浮誇', '心動', '對味', '幸福']\n",
      "['不大', '不佳', '不優', '一般', '誠實', '老實', '普普', '普通', '不錯', '失望', '不推', '失落', '還行', '瑕疵', '斟酌']\n",
      "['招待', '工商', '試用', '體驗', '愛評網', '推薦', '邀約', '免費', '分享']\n",
      "http://blog.xuite.net/nud26wd17g/blog/492324830\n",
      "0\n",
      "0\n",
      "2\n"
     ]
    }
   ],
   "source": [
    "import requests\n",
    "import MySQLdb\n",
    "from bs4 import BeautifulSoup\n",
    "import jieba\n",
    "import jieba.analyse\n",
    "\n",
    "def remove_values_from_list(the_list, val):\n",
    "    return [value for value in the_list if value != val]\n",
    "\n",
    "def get_web_page(url): #原始地址\n",
    "    time.sleep(0.5)  # 每次爬取前暫停 0.5 秒以免被 PTT 網站判定為大量惡意爬取\n",
    "    resp = requests.get(\n",
    "        url=url,\n",
    "        cookies={'over18': '1'}\n",
    "    )\n",
    "    return resp.text\n",
    "\n",
    "jieba.set_dictionary('dict.txt.big')\n",
    "jieba.load_userdict('userdict.txt')\n",
    "\n",
    "conn = MySQLdb.connect(host=\"localhost\", user=\"root\", passwd=\"\", db=\"python\",charset='utf8')#連結資料庫\n",
    "cur = conn.cursor()\n",
    "cur.execute(\"SELECT search_href,id FROM xuite\")\n",
    "results = cur.fetchall()\n",
    "\n",
    "with open('positive.txt', 'r',encoding='UTF-8') as positive:\n",
    "    pos=[]\n",
    "    for line in positive:\n",
    "        pos.append(line.strip('\\ufeff').strip())\n",
    "    positive.close()\n",
    "\n",
    "with open('nagative.txt', 'r',encoding='UTF-8') as nagative:\n",
    "    nag=[]\n",
    "    for line in nagative:\n",
    "        nag.append(line.strip('\\ufeff').strip())\n",
    "    nagative.close()\n",
    "\n",
    "with open('paid news.txt', 'r',encoding='UTF-8') as paidnews:\n",
    "    paid=[]\n",
    "    for line in paidnews:\n",
    "        paid.append(line.strip('\\ufeff').strip())\n",
    "    paidnews.close()\n",
    "    \n",
    "print(pos)\n",
    "print(nag)\n",
    "print(paid)\n",
    "\n",
    "pos_set=set(pos)\n",
    "nag_set=set(nag)\n",
    "paid_set=set(paid)\n",
    "\n",
    "#for record in results: \n",
    "# db_url = record[0]\n",
    "db_url='http://blog.xuite.net/nud26wd17g/blog/492324830'\n",
    "# xuite_id= record[1]\n",
    "\n",
    "print (db_url)\n",
    "\n",
    "res=requests.get(db_url)\n",
    "res.encoding='utf-8'\n",
    "soup = BeautifulSoup (res.text, \"html5lib\")\n",
    "#內文\n",
    "main_article = soup.select('#content_all')   \n",
    "sentence=main_article[0].select('span')\n",
    "total_pos_count=0\n",
    "total_nag_count=0\n",
    "total_paid_count=0\n",
    "for line in sentence:\n",
    "\n",
    "    line2=line.text.strip()\n",
    "    words=jieba.lcut(line2, cut_all=False)\n",
    "    words_set = set(words)\n",
    "    pos_intersection=words_set.intersection(pos_set)\n",
    "    nag_intersection=words_set.intersection(nag_set)\n",
    "    paid_intersection=words_set.intersection(paid_set)\n",
    "    pos_count=len(pos_intersection)\n",
    "    nag_count=len(nag_intersection)\n",
    "    paid_count=len(paid_intersection)\n",
    "\n",
    "    total_pos_count=total_pos_count+pos_count\n",
    "    total_nag_count=total_nag_count+nag_count\n",
    "    total_paid_count=total_paid_count+paid_count\n",
    "print(total_pos_count)\n",
    "print(total_nag_count)\n",
    "print(total_paid_count)\n"
   ]
  },
  {
   "cell_type": "code",
   "execution_count": null,
   "metadata": {
    "collapsed": true,
    "deletable": true,
    "editable": true
   },
   "outputs": [],
   "source": []
  }
 ],
 "metadata": {
  "kernelspec": {
   "display_name": "Python 3",
   "language": "python",
   "name": "python3"
  },
  "language_info": {
   "codemirror_mode": {
    "name": "ipython",
    "version": 3
   },
   "file_extension": ".py",
   "mimetype": "text/x-python",
   "name": "python",
   "nbconvert_exporter": "python",
   "pygments_lexer": "ipython3",
   "version": "3.6.0"
  }
 },
 "nbformat": 4,
 "nbformat_minor": 2
}
