{
 "cells": [
  {
   "cell_type": "code",
   "execution_count": 1,
   "metadata": {
    "collapsed": false,
    "deletable": true,
    "editable": true
   },
   "outputs": [
    {
     "name": "stderr",
     "output_type": "stream",
     "text": [
      "Building prefix dict from C:\\Users\\wlunareve\\python\\dict.txt.big ...\n",
      "Loading model from cache C:\\Users\\WLUNAR~1\\AppData\\Local\\Temp\\jieba.ube0c4e67d291f94013d7023df2b3161e.cache\n",
      "Loading model cost 1.293 seconds.\n",
      "Prefix dict has been built succesfully.\n"
     ]
    },
    {
     "name": "stdout",
     "output_type": "stream",
     "text": [
      "老人斑 0.36164026450000003\n",
      "BA 0.2701642373536723\n",
      "E6 0.2701642373536723\n",
      "96 0.2701642373536723\n",
      "E5 0.2701642373536723\n",
      "E7 0.2701642373536723\n",
      "醫師 0.2026231780152542\n",
      "出現 0.2026231780152542\n",
      "E9 0.2026231780152542\n",
      "B7 0.2026231780152542\n",
      "長期 0.13508211867683614\n",
      "累積 0.13508211867683614\n",
      "紫外線 0.13508211867683614\n",
      "傷害 0.13508211867683614\n",
      "皮膚科 0.13508211867683614\n",
      "遺傳 0.13508211867683614\n",
      "有關 0.13508211867683614\n",
      "則須 0.13508211867683614\n",
      "E8 0.13508211867683614\n",
      "80 0.13508211867683614\n",
      "========================================\n",
      "老人斑 1.0\n",
      "癌症 0.6073963522044546\n",
      "小心 0.6030769747478135\n",
      "使用 0.6011347309001457\n",
      "是否 0.43997966496282775\n",
      "前兆 0.4364659071525108\n",
      "新店 0.40938803166849924\n",
      "破皮 0.40938803166849924\n",
      "冒出 0.40938803166849924\n",
      "需擦 0.40938803166849924\n",
      "食道 0.40938803166849924\n",
      "增生 0.4064661058450206\n",
      "流血 0.4064661058450206\n",
      "丘疹 0.4064661058450206\n",
      "民眾 0.4064661058450206\n",
      "逆流 0.4064661058450206\n",
      "脫屑 0.31095270361324917\n",
      "局部 0.31095270361324917\n",
      "形成 0.2604646370536768\n",
      "情形 0.2604646370536768\n"
     ]
    }
   ],
   "source": [
    "#encoding=utf-8\n",
    "import jieba\n",
    "import jieba.analyse\n",
    "\n",
    "jieba.set_dictionary('dict.txt.big')\n",
    "with open('test.txt', 'r',encoding='UTF-8') as file:    \n",
    "    \n",
    "\n",
    "    #各行分詞\n",
    "    \n",
    "    for line in file:\n",
    "        sentence=line.strip()\n",
    "        words= jieba.lcut(sentence, cut_all=False)\n",
    "        print(words)\n",
    "    \"\"\"\n",
    "    \n",
    "    content=file.read()\n",
    "    #TF-IDF\n",
    "\n",
    "    for x,w in jieba.analyse.extract_tags(content, topK=20, withWeight=True, allowPOS=()):\n",
    "        print('%s %s' % (x, w))\n",
    "    print('='*40)\n",
    "\n",
    "    #TextRANK\n",
    "    for x, w in jieba.analyse.textrank(content, topK=20 ,withWeight=True):\n",
    "        print('%s %s' % (x, w))\n",
    "    \n",
    "    \"\"\""
   ]
  },
  {
   "cell_type": "code",
   "execution_count": null,
   "metadata": {
    "collapsed": true,
    "deletable": true,
    "editable": true
   },
   "outputs": [],
   "source": []
  },
  {
   "cell_type": "code",
   "execution_count": null,
   "metadata": {
    "collapsed": true,
    "deletable": true,
    "editable": true
   },
   "outputs": [],
   "source": []
  }
 ],
 "metadata": {
  "kernelspec": {
   "display_name": "Python 3",
   "language": "python",
   "name": "python3"
  },
  "language_info": {
   "codemirror_mode": {
    "name": "ipython",
    "version": 3
   },
   "file_extension": ".py",
   "mimetype": "text/x-python",
   "name": "python",
   "nbconvert_exporter": "python",
   "pygments_lexer": "ipython3",
   "version": "3.6.0"
  }
 },
 "nbformat": 4,
 "nbformat_minor": 2
}
