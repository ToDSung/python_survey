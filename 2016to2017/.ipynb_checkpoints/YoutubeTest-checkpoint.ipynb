{
 "cells": [
  {
   "cell_type": "code",
   "execution_count": null,
   "metadata": {
    "collapsed": true
   },
   "outputs": [],
   "source": [
    "#youtube\n",
    "import re\n",
    "import requests\n",
    "import urllib.parse\n",
    "#import MySQLdb\n",
    "from bs4 import BeautifulSoup\n",
    "from selenium import webdriver\n",
    "\n",
    "key_words = \"麵包\"\n",
    "\n",
    "url = \"https://www.youtube.com/watch?v=o83nTZ0DMWY\"\n",
    "res = requests.get(url, verify = False)\n",
    "soup = BeautifulSoup (res.text, \"html5lib\")\n",
    "last = None"
   ]
  }
 ],
 "metadata": {
  "kernelspec": {
   "display_name": "Python 3",
   "language": "python",
   "name": "python3"
  }
 },
 "nbformat": 4,
 "nbformat_minor": 2
}
