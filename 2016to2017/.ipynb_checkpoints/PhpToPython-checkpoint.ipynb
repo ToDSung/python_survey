{
 "cells": [
  {
   "cell_type": "code",
   "execution_count": null,
   "metadata": {
    "collapsed": true
   },
   "outputs": [],
   "source": [
    "import sys\n",
    "import requests\n",
    "import urllib.parse\n",
    "import time\n",
    "from bs4 import BeautifulSoup\n",
    "from selenium import webdriver\n",
    "\n",
    "\n",
    "\n",
    "\n",
    "\n",
    "tStart=time.time()\n",
    "\n",
    "driver=webdriver.PhantomJS(executable_path=r'E://phantomjs/bin/phantomjs') #模擬瀏覽器\n",
    "x=sys.argv[1]\n",
    "payload={'q':x,'site':'site:ptt.cc/'}\n",
    "q1=urllib.parse.quote(payload['q']) #url編碼轉換\n",
    "url='https://google.com.tw/search?q='+q1+'+'+payload['site']\n",
    "print('目標網址',url)\n",
    "driver.get(url)\n",
    "\n",
    "page=1\n",
    "for change in range(2,503):\n",
    "    \n",
    "    pageSource = driver.page_source #重新讀取當前頁面\n",
    "    #print(pageSource)\n",
    "    soup = BeautifulSoup (pageSource, \"html5lib\") #流入BeautifulSoup\n",
    "    for item in soup.find_all('h3'):\n",
    "        for item2 in item.find_all('a'):\n",
    "            print (item2.text)\n",
    "     \n",
    "    a=repr(change)\n",
    "    driver.find_element_by_link_text(a).click() #點擊下一頁\n",
    "    print('此處頁數為第',page,'頁')\n",
    "    page+=1\n",
    "    print (\"===============================================================================================================\")\n",
    "\n",
    "driver.close();\n",
    "tEnd=time.time()\n",
    "t=tEnd-tStart\n",
    "print(t)\n"
   ]
  }
 ],
 "metadata": {
  "kernelspec": {
   "display_name": "Python 3",
   "language": "python",
   "name": "python3"
  },
  "language_info": {
   "codemirror_mode": {
    "name": "ipython",
    "version": 3
   },
   "file_extension": ".py",
   "mimetype": "text/x-python",
   "name": "python",
   "nbconvert_exporter": "python",
   "pygments_lexer": "ipython3",
   "version": "3.6.0"
  }
 },
 "nbformat": 4,
 "nbformat_minor": 2
}
