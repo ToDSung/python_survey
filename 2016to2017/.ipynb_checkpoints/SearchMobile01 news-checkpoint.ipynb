{
 "cells": [
  {
   "cell_type": "code",
   "execution_count": 26,
   "metadata": {
    "collapsed": false
   },
   "outputs": [
    {
     "name": "stdout",
     "output_type": "stream",
     "text": [
      "[日式咖哩]彰化市後火車站木下食堂日式咖哩飯~日本人開的店~平價好吃實在~\n",
      "https://www.mobile01.com/userinfo.php?id=2505120\n",
      "2508 \n",
      "2016-11-26 22:13  \n"
     ]
    }
   ],
   "source": [
    "import requests\n",
    "from bs4 import BeautifulSoup\n",
    "\n",
    "mobile01_url='https://www.mobile01.com/'\n",
    "url='https://www.mobile01.com/newsdetail/21280/supremesalmon-salmon-thai-cuisine-summer-2017'\n",
    "res=requests.get(url)\n",
    "res.encoding='utf-8'\n",
    "soup2 = BeautifulSoup (res.text, \"lxml\")\n",
    "Main_article = soup2.find_all('main')\n",
    "print(Main_article[0].find('h1').text)\n",
    "    #標題\n",
    "    #search_title=Main_article.select('.topic')[0].text\n",
    "    #print(search_title)\n",
    "#作者、作者網址\n",
    "authors = Main_article[0].select('.inner')\n",
    "author_name = authors[0].select('.fn')\n",
    "search_author=author_name[0].find('a').text\n",
    "author_href=mobile01_url+author_name[0].find('a')['href']\n",
    "print(author_href)\n",
    "\n",
    "\n",
    "#人氣\n",
    "info=authors[0].select('.info')\n",
    "search_view=info[0].text.strip('文章人氣:').lstrip().replace(',','')\n",
    "print(search_view)\n",
    "#文章時間\n",
    "time1=authors[0].select('.date')\n",
    "search_time=time1[0].text.strip('#1')\n",
    "print(search_time)"
   ]
  },
  {
   "cell_type": "code",
   "execution_count": null,
   "metadata": {
    "collapsed": true
   },
   "outputs": [],
   "source": []
  },
  {
   "cell_type": "code",
   "execution_count": null,
   "metadata": {
    "collapsed": true
   },
   "outputs": [],
   "source": []
  }
 ],
 "metadata": {
  "kernelspec": {
   "display_name": "Python 3",
   "language": "python",
   "name": "python3"
  },
  "language_info": {
   "codemirror_mode": {
    "name": "ipython",
    "version": 3
   },
   "file_extension": ".py",
   "mimetype": "text/x-python",
   "name": "python",
   "nbconvert_exporter": "python",
   "pygments_lexer": "ipython3",
   "version": "3.6.0"
  }
 },
 "nbformat": 4,
 "nbformat_minor": 2
}
