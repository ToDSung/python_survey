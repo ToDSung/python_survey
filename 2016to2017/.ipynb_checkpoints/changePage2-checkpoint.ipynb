{
 "cells": [
  {
   "cell_type": "code",
   "execution_count": 2,
   "metadata": {
    "collapsed": false,
    "deletable": true,
    "editable": true
   },
   "outputs": [
    {
     "name": "stdout",
     "output_type": "stream",
     "text": [
      "目標網址 https://blog.xuite.net/index_next.php?query=%E9%BA%B5%E5%8C%85&type=search\n",
      "每\n",
      "http://blog.xuite.net/jackie.baking/meng/19136831-%E6%AF%8F%E5%A4%A9%E8%8A%B1+5%E5%88%86%E9%90%98%E5%81%9A%E9%BA%B5%E5%8C%85%E5%90%A7%EF%BC%81\n",
      "每\n"
     ]
    },
    {
     "ename": "TypeError",
     "evalue": "'NoneType' object is not subscriptable",
     "output_type": "error",
     "traceback": [
      "\u001b[0;31m---------------------------------------------------------------------------\u001b[0m",
      "\u001b[0;31mTypeError\u001b[0m                                 Traceback (most recent call last)",
      "\u001b[0;32m<ipython-input-2-cf49b5ec806b>\u001b[0m in \u001b[0;36m<module>\u001b[0;34m()\u001b[0m\n\u001b[1;32m     20\u001b[0m     \u001b[1;32mfor\u001b[0m \u001b[0mitem\u001b[0m \u001b[1;32min\u001b[0m \u001b[0msoup\u001b[0m\u001b[1;33m.\u001b[0m\u001b[0mselect\u001b[0m\u001b[1;33m(\u001b[0m\u001b[1;34m'.gs-title'\u001b[0m\u001b[1;33m)\u001b[0m\u001b[1;33m:\u001b[0m\u001b[1;33m\u001b[0m\u001b[0m\n\u001b[1;32m     21\u001b[0m         \u001b[0mprint\u001b[0m \u001b[1;33m(\u001b[0m\u001b[0mitem\u001b[0m\u001b[1;33m.\u001b[0m\u001b[0mtext\u001b[0m\u001b[1;33m[\u001b[0m\u001b[1;36m0\u001b[0m\u001b[1;33m]\u001b[0m\u001b[1;33m)\u001b[0m\u001b[1;31m#找標題\u001b[0m\u001b[1;33m\u001b[0m\u001b[0m\n\u001b[0;32m---> 22\u001b[0;31m         \u001b[0mprint\u001b[0m \u001b[1;33m(\u001b[0m\u001b[0mitem\u001b[0m\u001b[1;33m.\u001b[0m\u001b[0mfind\u001b[0m\u001b[1;33m(\u001b[0m\u001b[1;34m'a'\u001b[0m\u001b[1;33m)\u001b[0m\u001b[1;33m[\u001b[0m\u001b[1;34m'href'\u001b[0m\u001b[1;33m]\u001b[0m\u001b[1;33m)\u001b[0m\u001b[1;31m#找網址\u001b[0m\u001b[1;33m\u001b[0m\u001b[0m\n\u001b[0m\u001b[1;32m     23\u001b[0m \u001b[1;33m\u001b[0m\u001b[0m\n\u001b[1;32m     24\u001b[0m     \u001b[0ma\u001b[0m\u001b[1;33m=\u001b[0m\u001b[1;34mr\"//div[@id='cse']/div/div/div/div[5]/div[2]/div/div/div[2]/div[11]/div/div[\"\u001b[0m\u001b[1;33m\u001b[0m\u001b[0m\n",
      "\u001b[0;31mTypeError\u001b[0m: 'NoneType' object is not subscriptable"
     ]
    }
   ],
   "source": [
    "import requests\n",
    "import urllib.parse\n",
    "import time\n",
    "from bs4 import BeautifulSoup\n",
    "from selenium import webdriver\n",
    "\n",
    "driver=webdriver.PhantomJS(executable_path=r'E://phantomjs/bin/phantomjs') #模擬瀏覽器\n",
    "payload={'q':'麵包','page':'1'}\n",
    "qQuote=urllib.parse.quote(payload['q']) #url編碼轉換\n",
    "\n",
    "url='https://blog.xuite.net/index_next.php?query='+qQuote+'&type=search'\n",
    "print('目標網址',url)\n",
    "driver.get(url)\n",
    "\n",
    "\n",
    "for page in range(2,10):\n",
    "    \n",
    "    pageSource = driver.page_source #重新讀取當前頁面\n",
    "    soup = BeautifulSoup (pageSource, \"html5lib\") #流入BeautifulSoup\n",
    "    for item in soup.select('.gs-title'):\n",
    "        print (item.text#找標題\n",
    "        print (item.find('a')['href'])#找網址\n",
    "    \n",
    "    a=r\"//div[@id='cse']/div/div/div/div[5]/div[2]/div/div/div[2]/div[11]/div/div[\"\n",
    "    b=r\"]\"\n",
    "    c=a+repr(page)+b\n",
    "    print(c)\n",
    "    driver.find_element_by_xpath(c).click() #點擊下一頁\n",
    "    \n",
    "    print('此處頁數為第',page,'頁')\n",
    "    #time.sleep(2)\n",
    "    print (\"===============================================================================================================\")\n",
    "\n",
    "driver.close();"
   ]
  },
  {
   "cell_type": "code",
   "execution_count": null,
   "metadata": {
    "collapsed": true,
    "deletable": true,
    "editable": true
   },
   "outputs": [],
   "source": []
  }
 ],
 "metadata": {
  "kernelspec": {
   "display_name": "Python 3",
   "language": "python",
   "name": "python3"
  },
  "language_info": {
   "codemirror_mode": {
    "name": "ipython",
    "version": 3
   },
   "file_extension": ".py",
   "mimetype": "text/x-python",
   "name": "python",
   "nbconvert_exporter": "python",
   "pygments_lexer": "ipython3",
   "version": "3.6.0"
  }
 },
 "nbformat": 4,
 "nbformat_minor": 2
}
