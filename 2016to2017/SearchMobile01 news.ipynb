{
 "cells": [
  {
   "cell_type": "code",
   "execution_count": 39,
   "metadata": {
    "collapsed": false
   },
   "outputs": [
    {
     "name": "stdout",
     "output_type": "stream",
     "text": [
      "[採訪]融入泰式調味 美威鮭魚推出全新夏季新菜\n",
      "https://static.mobile01.com/avatar/a43b22a79a33d1561d5b5d86ff0170cd.jpg\n",
      "edlin1981\n"
     ]
    }
   ],
   "source": [
    "import requests\n",
    "from bs4 import BeautifulSoup\n",
    "\n",
    "mobile01_url='https://www.mobile01.com/'\n",
    "url='https://www.mobile01.com/newsdetail/21280/supremesalmon-salmon-thai-cuisine-summer-2017'\n",
    "res=requests.get(url)\n",
    "res.encoding='utf-8'\n",
    "soup2 = BeautifulSoup (res.text, \"lxml\")\n",
    "Main_article = soup2.find_all('main')\n",
    "search_title=Main_article[0].select('.topic')[0].text\n",
    "print(search_title)\n",
    "author_name = soup2.select('.sidebar-authur')\n",
    "search_author=author_name[0].text.strip().lstrip('本文作者').strip().lstrip('無圖示')\n",
    "author_href=mobile01_url+author_name[0].find('a')['href']\n",
    "\n",
    "print(author_picture)\n",
    "print(search_author)"
   ]
  },
  {
   "cell_type": "code",
   "execution_count": null,
   "metadata": {
    "collapsed": true
   },
   "outputs": [],
   "source": []
  },
  {
   "cell_type": "code",
   "execution_count": null,
   "metadata": {
    "collapsed": true
   },
   "outputs": [],
   "source": []
  }
 ],
 "metadata": {
  "kernelspec": {
   "display_name": "Python 3",
   "language": "python",
   "name": "python3"
  },
  "language_info": {
   "codemirror_mode": {
    "name": "ipython",
    "version": 3
   },
   "file_extension": ".py",
   "mimetype": "text/x-python",
   "name": "python",
   "nbconvert_exporter": "python",
   "pygments_lexer": "ipython3",
   "version": "3.6.0"
  }
 },
 "nbformat": 4,
 "nbformat_minor": 2
}
