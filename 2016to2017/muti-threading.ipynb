{
 "cells": [
  {
   "cell_type": "code",
   "execution_count": 8,
   "metadata": {
    "collapsed": false
   },
   "outputs": [
    {
     "name": "stdout",
     "output_type": "stream",
     "text": [
      "Count=100!\n"
     ]
    }
   ],
   "source": [
    "import re\n",
    "import requests\n",
    "import urllib.parse\n",
    "import time\n",
    "from bs4 import BeautifulSoup\n",
    "from selenium import webdriver\n",
    "import  threading    \n",
    "\n",
    "def get_web_page(url): #原始地址\n",
    "    #time.sleep()  # 每次爬取前暫停 0.5 秒以免被 PTT 網站判定為大量惡意爬取\n",
    "    resp = requests.get(\n",
    "        url=url,\n",
    "        cookies={'over18': '1'}\n",
    "    )\n",
    "    #if resp.status_code != 200:\n",
    "    #    print('Invalid url:', resp.url)\n",
    "    #    return resp.text\n",
    "    #else:\n",
    "    return resp.text\n",
    "\n",
    "   \n",
    "lock = threading.Lock()    \n",
    "def  crawler():    \n",
    "    \n",
    "    global lock\n",
    "    lock.acquire()\n",
    "   \n",
    "     \n",
    "    driver=webdriver.Chrome(executable_path=r'E://chromedriver') #模擬瀏覽器\n",
    "    driver.maximize_window()\n",
    "    x=input()\n",
    "    payload={'q':x,'site':'site:ptt.cc/'}\n",
    "    q1=urllib.parse.quote(payload['q']) #url編碼轉換\n",
    "    url='https://google.com.tw/search?q='+q1+'+'+payload['site']\n",
    "    driver.get(url)\n",
    "    for change in range(2,5):\n",
    "        pageSource = driver.page_source #重新讀取當前頁面\n",
    "        soup = BeautifulSoup (pageSource, \"html5lib\") #流入BeautifulSoup\n",
    "       \n",
    "        \n",
    "        \n",
    "        \n",
    "    lock.release()  \n",
    "      \n",
    "for  i  in  range( 5 ):    \n",
    "    threading.Thread(target = doAdd, args = (), name =  'thread-'  + str(i)).start()\n",
    "    soup2=BeautifulSoup(get_web_page(search_href), \"html5lib\")\n",
    "    data =soup2.select('span[class=\"article-meta-value\"]')\n",
    "    Title=data[2].get_text()\n",
    "    print(Title)\n",
    "time.sleep( 2 )    #確保線程都執行完畢    \n",
    "print(\"Count={0}!\".format(count))   "
   ]
  },
  {
   "cell_type": "code",
   "execution_count": null,
   "metadata": {
    "collapsed": true
   },
   "outputs": [],
   "source": []
  }
 ],
 "metadata": {
  "kernelspec": {
   "display_name": "Python 3",
   "language": "python",
   "name": "python3"
  },
  "language_info": {
   "codemirror_mode": {
    "name": "ipython",
    "version": 3
   },
   "file_extension": ".py",
   "mimetype": "text/x-python",
   "name": "python",
   "nbconvert_exporter": "python",
   "pygments_lexer": "ipython3",
   "version": "3.6.0"
  }
 },
 "nbformat": 4,
 "nbformat_minor": 2
}
