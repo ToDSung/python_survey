{
 "cells": [
  {
   "cell_type": "code",
   "execution_count": 8,
   "metadata": {
    "collapsed": false,
    "deletable": true,
    "editable": true
   },
   "outputs": [],
   "source": [
    "import sys\n",
    "import urllib.parse\n",
    "# url_key_word=sys.argv[1]\n",
    "# chinese_key_word=urllib.parse.unquote(url_key_word)\n",
    "chinese_key_word='電腦'\n",
    "vocabulary={chinese_key_word}\n",
    "insert=chinese_key_word+'\\n'\n",
    "dictionary=[]\n",
    "with open('userdict.txt','r+',encoding='UTF-8') as dict:\n",
    "    for line in dict:\n",
    "        dictionary.append(line.strip('\\ufeff').strip())\n",
    "    dictset=set(dictionary)\n",
    "    intersection=vocabulary.intersection(dictset)\n",
    "    if len(intersection)==0:\n",
    "        dict.write(insert)\n",
    "    "
   ]
  },
  {
   "cell_type": "code",
   "execution_count": null,
   "metadata": {
    "collapsed": true,
    "deletable": true,
    "editable": true
   },
   "outputs": [],
   "source": []
  },
  {
   "cell_type": "code",
   "execution_count": null,
   "metadata": {
    "collapsed": true,
    "deletable": true,
    "editable": true
   },
   "outputs": [],
   "source": []
  },
  {
   "cell_type": "code",
   "execution_count": null,
   "metadata": {
    "collapsed": true,
    "deletable": true,
    "editable": true
   },
   "outputs": [],
   "source": []
  },
  {
   "cell_type": "code",
   "execution_count": null,
   "metadata": {
    "collapsed": true
   },
   "outputs": [],
   "source": []
  }
 ],
 "metadata": {
  "kernelspec": {
   "display_name": "Python 3",
   "language": "python",
   "name": "python3"
  },
  "language_info": {
   "codemirror_mode": {
    "name": "ipython",
    "version": 3
   },
   "file_extension": ".py",
   "mimetype": "text/x-python",
   "name": "python",
   "nbconvert_exporter": "python",
   "pygments_lexer": "ipython3",
   "version": "3.6.0"
  }
 },
 "nbformat": 4,
 "nbformat_minor": 2
}
