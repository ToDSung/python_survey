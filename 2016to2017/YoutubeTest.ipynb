{
 "cells": [
  {
   "cell_type": "code",
   "execution_count": 85,
   "metadata": {
    "collapsed": false,
    "deletable": true,
    "editable": true
   },
   "outputs": [
    {
     "name": "stderr",
     "output_type": "stream",
     "text": [
      "d:\\users\\wlunareve\\appdata\\local\\programs\\python\\python36\\lib\\site-packages\\requests\\packages\\urllib3\\connectionpool.py:852: InsecureRequestWarning: Unverified HTTPS request is being made. Adding certificate verification is strongly advised. See: https://urllib3.readthedocs.io/en/latest/advanced-usage.html#ssl-warnings\n",
      "  InsecureRequestWarning)\n"
     ]
    },
    {
     "name": "stdout",
     "output_type": "stream",
     "text": [
      "Sara的健康自己來44 -不用量杯的簡易麵包，讓你變成烘焙大師\n",
      "Sara的健康自己來\n",
      "2017年2月16日\n",
      "105,481\n",
      "660\n",
      "87\n",
      "我做菜很少量，因為我覺得用量的，就好像要畫畫時在那裡量要放多少顏料一樣的掃興。但是，烘焙就不同，它不只是藝術，還是科學，所以烘焙不量，多數不會成功。這是為什麼我常把蛋糕做成布朗尼，也把蛋糕上那層薄薄的巧克力甘纳许，做成盔甲。但是，有一天我在網上逛，遇到了一個不用量杯的麵包師。哇哇，我趕快學起來，自此後，常常在眾人面前秀自己的烘焙技術。其實，它一點技術都沒有，如果你也想學學要怎麼樣才能不用量杯也做出各種麵包，那你一定不能錯過這集Sara的健康自己來。欲知詳盡食譜，請參見     28天超便利根治飲食法更多健康新資訊，請上「Sara的健康自己來」賴宇凡官方網站：http://www.sarasdiyhealth.comYouTube頻道：https://www.youtube.com/user/shishike...Facebook粉絲頁：http://ppt.cc/ObsMFLINE帳號ID：@jkt2213j\n",
      "None\n",
      "http://www.sarasdiyhealth.com\n",
      "http://ppt.cc/ObsMF\n",
      "https://www.youtube.com/user/shishike\n"
     ]
    }
   ],
   "source": [
    "#youtube\n",
    "import re\n",
    "import requests\n",
    "import urllib.parse\n",
    "#import MySQLdb\n",
    "from bs4 import BeautifulSoup\n",
    "from selenium import webdriver\n",
    "\n",
    "key_words = \"麵包\"\n",
    "\n",
    "url = \"https://www.youtube.com/watch?v=56lLyn7u2P8\"\n",
    "res = requests.get(url, verify = False)\n",
    "soup = BeautifulSoup (res.text, \"html5lib\")\n",
    "last = None\n",
    "\n",
    "title = soup.select('span[class=\"watch-title\"]')\n",
    "print (title[0].text.strip())\n",
    "author = soup.select('a[class=\"g-hovercard yt-uix-sessionlink spf-link \"]')\n",
    "print (author[0].text)\n",
    "time = soup.select('strong[class=\"watch-time-text\"]')\n",
    "print (time[0].text.replace('發佈日期：',''))\n",
    "views=soup.select('div[class=\"watch-view-count\"]')\n",
    "print (views[0].text.replace('觀看次數：',''))\n",
    "for LikeButton in soup.select('span[class=\"like-button-renderer \"]'):\n",
    "    PushBoo = LikeButton.select('span[class=\"yt-uix-button-content\"]')\n",
    "    if(PushBoo[0].text=='登入'):\n",
    "        print(0)\n",
    "    else:\n",
    "        print(PushBoo[0].text)\n",
    "        print(PushBoo[3].text)\n",
    "description=soup.select('p[id=\"eow-description\"]')\n",
    "print(description[0].text)\n",
    "a=(re.match('^https?://',description[0].text))\n",
    "print(a)\n",
    "\n",
    "\n",
    "if (description[0].select('a[class=\"yt-uix-servicelink \"]')):\n",
    "    for WebHref in description[0].select('a[class=\"yt-uix-servicelink \"]'):\n",
    "        print(WebHref['href'])\n",
    "if (description[0].select('a[class=\"yt-uix-sessionlink \"]')):\n",
    "    for YoutubeHref in description[0].select('a[class=\"yt-uix-sessionlink \"]'):\n",
    "        print(YoutubeHref['href'])\n",
    "    "
   ]
  },
  {
   "cell_type": "code",
   "execution_count": null,
   "metadata": {
    "collapsed": true
   },
   "outputs": [],
   "source": []
  },
  {
   "cell_type": "code",
   "execution_count": null,
   "metadata": {
    "collapsed": true
   },
   "outputs": [],
   "source": []
  }
 ],
 "metadata": {
  "kernelspec": {
   "display_name": "Python 3",
   "language": "python",
   "name": "python3"
  },
  "language_info": {
   "codemirror_mode": {
    "name": "ipython",
    "version": 3
   },
   "file_extension": ".py",
   "mimetype": "text/x-python",
   "name": "python",
   "nbconvert_exporter": "python",
   "pygments_lexer": "ipython3",
   "version": "3.6.0"
  }
 },
 "nbformat": 4,
 "nbformat_minor": 2
}
