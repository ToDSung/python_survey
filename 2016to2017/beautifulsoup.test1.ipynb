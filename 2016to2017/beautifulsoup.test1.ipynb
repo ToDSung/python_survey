{
 "cells": [
  {
   "cell_type": "code",
   "execution_count": 22,
   "metadata": {
    "collapsed": false,
    "deletable": true,
    "editable": true
   },
   "outputs": [
    {
     "name": "stdout",
     "output_type": "stream",
     "text": [
      "【電腦維修】顯示卡的檢測　　歐飛：顯示卡要穩，電源供應器肯定不能爛啊！\n",
      "顯示卡效能比較表\n",
      "擺脫醜陋的高科技竹筷 ~ CoolerMaster MasterAccessory 顯示卡支撐架\n",
      "能真正測試顯示卡跟顯示記憶體的軟體程式\n",
      "為什麼獨顯的筆電總是容易壞..... 以下以 NVIDIA GPU晶片為範例告訴您原因!!\n",
      "如何查看自己電腦的基本配備教學(CPU、記憶體、顯示卡、網路卡)\n",
      "NVIDIA與AMD顯示卡規格判別與比較\n",
      "顯示卡\n",
      "顯示卡\n",
      "技嘉 HD5830 顯示卡\n"
     ]
    }
   ],
   "source": [
    "import requests\n",
    "from bs4 import BeautifulSoup\n",
    "payload={'q':'顯示卡','page':'1'}\n",
    "res=requests.get(\"https://www.pixnet.net/searcharticle\",params=payload)\n",
    "res.encoding='utf-8'\n",
    "soup = BeautifulSoup (res.text,\"html5lib\")\n",
    "for item in soup.select('.search-list'):\n",
    "    print (item.select('.search-title')[0].text)\n",
    "   "
   ]
  },
  {
   "cell_type": "code",
   "execution_count": null,
   "metadata": {
    "collapsed": true,
    "deletable": true,
    "editable": true
   },
   "outputs": [],
   "source": []
  }
 ],
 "metadata": {
  "kernelspec": {
   "display_name": "Python 3",
   "language": "python",
   "name": "python3"
  },
  "language_info": {
   "codemirror_mode": {
    "name": "ipython",
    "version": 3
   },
   "file_extension": ".py",
   "mimetype": "text/x-python",
   "name": "python",
   "nbconvert_exporter": "python",
   "pygments_lexer": "ipython3",
   "version": "3.6.0"
  }
 },
 "nbformat": 4,
 "nbformat_minor": 2
}
