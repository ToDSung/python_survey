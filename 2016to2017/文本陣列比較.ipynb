{
 "cells": [
  {
   "cell_type": "code",
   "execution_count": 3,
   "metadata": {
    "collapsed": false,
    "deletable": true,
    "editable": true
   },
   "outputs": [
    {
     "name": "stderr",
     "output_type": "stream",
     "text": [
      "Building prefix dict from C:\\Users\\wlunareve\\python\\dict.txt.big ...\n",
      "Loading model from cache C:\\Users\\WLUNAR~1\\AppData\\Local\\Temp\\jieba.ube0c4e67d291f94013d7023df2b3161e.cache\n"
     ]
    },
    {
     "name": "stdout",
     "output_type": "stream",
     "text": [
      "['推薦', '粉底']\n"
     ]
    },
    {
     "name": "stderr",
     "output_type": "stream",
     "text": [
      "Loading model cost 1.424 seconds.\n",
      "Prefix dict has been built succesfully.\n"
     ]
    },
    {
     "name": "stdout",
     "output_type": "stream",
     "text": [
      "['老人斑', 'BA', 'E6', '96', 'E5', 'E7', '醫師', '出現', 'E9', 'B7', '長期', '累積', '紫外線', '傷害', '皮膚科', '遺傳', '有關', '則須', 'E8', '80', '81', 'E4', '91', 'B4', '或是', '丘疹', '癌症', '小心', '角質', '病變']\n",
      "['老人斑', '癌症', '小心', '使用', '是否', '前兆', '新店', '破皮', '冒出', '需擦', '食道', '增生', '流血', '丘疹', '民眾', '逆流', '脫屑', '局部', '形成', '情形', '手部', '方法', '注意', '可能']\n",
      "0\n"
     ]
    }
   ],
   "source": [
    "#encoding=utf-8\n",
    "import jieba\n",
    "import jieba.analyse\n",
    "\n",
    "jieba.set_dictionary('dict.txt.big')\n",
    "\n",
    "with open('list.txt', 'r',encoding='UTF-8') as list:\n",
    "    list1=[]\n",
    "    for line in list:\n",
    "        list1.append(line.strip('\\ufeff').strip())\n",
    "    print (list1)\n",
    "    list.close()\n",
    "\n",
    "with open('test.txt', 'r',encoding='UTF-8') as file:    \n",
    "    content=file.read()\n",
    "    \n",
    "    #陣列\n",
    "    \n",
    "    s1 = set(list1)\n",
    "    s2 = set(x)\n",
    "    intersection=s1.intersection(s2)\n",
    "    count=len(intersection)\n",
    "    print(count)\n",
    "\n",
    "\n"
   ]
  },
  {
   "cell_type": "code",
   "execution_count": null,
   "metadata": {
    "collapsed": true,
    "deletable": true,
    "editable": true
   },
   "outputs": [],
   "source": []
  }
 ],
 "metadata": {
  "kernelspec": {
   "display_name": "Python 3",
   "language": "python",
   "name": "python3"
  },
  "language_info": {
   "codemirror_mode": {
    "name": "ipython",
    "version": 3
   },
   "file_extension": ".py",
   "mimetype": "text/x-python",
   "name": "python",
   "nbconvert_exporter": "python",
   "pygments_lexer": "ipython3",
   "version": "3.6.0"
  }
 },
 "nbformat": 4,
 "nbformat_minor": 2
}
