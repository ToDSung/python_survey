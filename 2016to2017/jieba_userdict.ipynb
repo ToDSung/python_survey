{
 "cells": [
  {
   "cell_type": "code",
   "execution_count": 10,
   "metadata": {
    "collapsed": false,
    "deletable": true,
    "editable": true
   },
   "outputs": [
    {
     "name": "stderr",
     "output_type": "stream",
     "text": [
      "Building prefix dict from C:\\Users\\wlunareve\\python\\dict.txt.big ...\n",
      "Loading model from cache C:\\Users\\WLUNAR~1\\AppData\\Local\\Temp\\jieba.ube0c4e67d291f94013d7023df2b3161e.cache\n",
      "Loading model cost 1.360 seconds.\n",
      "Prefix dict has been built succesfully.\n"
     ]
    },
    {
     "name": "stdout",
     "output_type": "stream",
     "text": [
      "['吃', '我', '的', '麵包', '啦']\n"
     ]
    }
   ],
   "source": [
    "import jieba\n",
    "\n",
    "\n",
    "jieba.set_dictionary('dict.txt.big')\n",
    "jieba.load_userdict('userdict.txt')\n",
    "\n",
    "a='吃我的麵包啦'\n",
    "b=jieba.lcut(a,cut_all=False)\n",
    "\n",
    "print(b)\n"
   ]
  },
  {
   "cell_type": "code",
   "execution_count": null,
   "metadata": {
    "collapsed": true,
    "deletable": true,
    "editable": true
   },
   "outputs": [],
   "source": []
  }
 ],
 "metadata": {
  "kernelspec": {
   "display_name": "Python 3",
   "language": "python",
   "name": "python3"
  },
  "language_info": {
   "codemirror_mode": {
    "name": "ipython",
    "version": 3
   },
   "file_extension": ".py",
   "mimetype": "text/x-python",
   "name": "python",
   "nbconvert_exporter": "python",
   "pygments_lexer": "ipython3",
   "version": "3.6.0"
  }
 },
 "nbformat": 4,
 "nbformat_minor": 2
}
