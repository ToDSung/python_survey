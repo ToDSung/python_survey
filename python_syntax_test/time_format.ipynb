{
 "cells": [
  {
   "cell_type": "code",
   "execution_count": 44,
   "metadata": {
    "scrolled": true
   },
   "outputs": [
    {
     "name": "stdout",
     "output_type": "stream",
     "text": [
      "2018-05-17 09:00:00\n"
     ]
    }
   ],
   "source": [
    "import datetime\n",
    "from datetime import date, time, timedelta\n",
    "\n",
    "'''\n",
    "date=' 5/09'\n",
    "print(date.strip().split('/'))\n",
    "def str_to_date(date):\n",
    "    return '/'.join((str(datetime.date.today().year),date.strip()))\n",
    "'''\n",
    "\n",
    "now = datetime.datetime.combine(datetime.date.today(), datetime.time(hour=9))\n",
    "print(now)\n"
   ]
  },
  {
   "cell_type": "code",
   "execution_count": null,
   "metadata": {
    "collapsed": true
   },
   "outputs": [],
   "source": []
  },
  {
   "cell_type": "code",
   "execution_count": null,
   "metadata": {
    "collapsed": true
   },
   "outputs": [],
   "source": []
  },
  {
   "cell_type": "code",
   "execution_count": null,
   "metadata": {
    "collapsed": true
   },
   "outputs": [],
   "source": []
  }
 ],
 "metadata": {
  "kernelspec": {
   "display_name": "Python 3",
   "language": "python",
   "name": "python3"
  },
  "language_info": {
   "codemirror_mode": {
    "name": "ipython",
    "version": 3
   },
   "file_extension": ".py",
   "mimetype": "text/x-python",
   "name": "python",
   "nbconvert_exporter": "python",
   "pygments_lexer": "ipython3",
   "version": "3.6.3"
  }
 },
 "nbformat": 4,
 "nbformat_minor": 2
}
