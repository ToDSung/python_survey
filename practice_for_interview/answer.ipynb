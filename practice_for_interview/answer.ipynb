{
 "cells": [
  {
   "cell_type": "code",
   "execution_count": 23,
   "metadata": {},
   "outputs": [
    {
     "name": "stdout",
     "output_type": "stream",
     "text": [
      "a.txt 3\n",
      "b.txt 2\n",
      "c.jpg 2\n"
     ]
    }
   ],
   "source": [
    "urls = [\n",
    "    \"http://www.google.com/a.txt\",\n",
    "    \"http://www.google.com.tw/a.txt\",\n",
    "    \"http://www.google.com/download/c.jpg\",\n",
    "    \"http://www.google.co.jp/a.txt\",\n",
    "    \"http://www.google.com/b.txt\",\n",
    "    \"https://facebook/movie/b.txt\",\n",
    "    \"http://yahoo.com/123/000/c.jpg\",\n",
    "    \"http://gliacloud.com/haha.png\",\n",
    "]\n",
    "\n",
    "\n",
    "file_name_dict = {}\n",
    "\n",
    "for url in urls:\n",
    "    split_words = url.split('/')\n",
    "    if split_words[-1] in file_name_dict:\n",
    "        file_name_dict[split_words[-1]] = file_name_dict[split_words[-1]] + 1\n",
    "    else:\n",
    "        file_name_dict[split_words[-1]] = 1\n",
    "\n",
    "output_list = [(k,file_name_dict[k]) for k in sorted(file_name_dict.keys())]\n",
    "for i in output_list[0:3]:\n",
    "    print(i[0],end=' ')\n",
    "    print(i[1])\n",
    "    "
   ]
  },
  {
   "cell_type": "code",
   "execution_count": 113,
   "metadata": {},
   "outputs": [
    {
     "name": "stdout",
     "output_type": "stream",
     "text": [
      "10\n",
      "1\n",
      "5005\n"
     ]
    }
   ],
   "source": [
    "def C(n, r):\n",
    "    if n == r:\n",
    "        return 1\n",
    "    elif r ==1:\n",
    "        return n\n",
    "    else:\n",
    "        return C(n-1, r) + C(n-1, r-1 )\n",
    "    \n",
    "print(C(10, 1))\n",
    "print(C(10, 10))\n",
    "print(C(15, 6))\n",
    "    "
   ]
  },
  {
   "cell_type": "code",
   "execution_count": 38,
   "metadata": {},
   "outputs": [
    {
     "name": "stdout",
     "output_type": "stream",
     "text": [
      "4.870000000000001\n"
     ]
    }
   ],
   "source": [
    "def anonymous(x):\n",
    "    return x**2 + 1\n",
    "\n",
    "def integrate(fun, start, end):\n",
    "    step = 0.1\n",
    "    intercept = start\n",
    "    area = 0\n",
    "    while intercept < end:\n",
    "        \n",
    "        intercept += step\n",
    "        height = fun(intercept)\n",
    "        area = area + height * step\n",
    "        \n",
    "    return area\n",
    "\n",
    "print(integrate(anonymous, 0, 2))"
   ]
  },
  {
   "cell_type": "code",
   "execution_count": 117,
   "metadata": {},
   "outputs": [
    {
     "name": "stdout",
     "output_type": "stream",
     "text": [
      "https://www.ptt.cc/bbs/NBA/index.html\n",
      "https://www.ptt.cc/bbs/NBA/index6517.html\n"
     ]
    }
   ],
   "source": [
    "import requests\n",
    "from pyquery import PyQuery as pq\n",
    "\n",
    "def getPTTBoard(html = 'https://www.ptt.cc/bbs/index.html'):\n",
    "    doc = pq(html)\n",
    "    board_items = doc('.board-name').items()\n",
    "\n",
    "        \n",
    "    board_list= [i.text() for i in board_items]\n",
    "    print(board_list)\n",
    "    #print(doc('.board-name').text())\n",
    "    \n",
    "    return(board_list)\n",
    "    \n",
    "\n",
    "def getPTTArticle(boardname):\n",
    "    ptt_host= 'https://www.ptt.cc'\n",
    "    html = 'https://www.ptt.cc/bbs/' + boardname + '/index.html'\n",
    "    print(html)\n",
    "    doc = pq(html) \n",
    "    i = 0 \n",
    "    \n",
    "    while True:\n",
    "    \n",
    "#     for article_item in doc('.r-ent').items():\n",
    "#         try:\n",
    "#             print( '日期:{}'.format(article_item('.date').text()))\n",
    "#             print( '標題:{}'.format(article_item('.title').text()))\n",
    "#             print( '作者:{}'.format(article_item('.author').text()))\n",
    "#             #print(article_item('a').attr('href'))\n",
    "#             print( '網址:{}'.format(ptt_host + article_item('a').attr('href')))\n",
    "#             doc2 = pq(ptt_host + article_item('a').attr('href'))\n",
    "#             print('內文:{}'.format(doc2('#main-content').text()))\n",
    "#             print( '看板名稱:{}'.format(boardname))\n",
    "#         except:\n",
    "#             pass\n",
    "        try:\n",
    "            next_button = ptt_host + doc('#action-bar-container > div > div.btn-group.btn-group-paging > a:nth-child(2)').attr('href')\n",
    "            print(next_button)\n",
    "            next_button = 'https://www.ptt.cc/bbs/NBA/index1.html'\n",
    "        except:\n",
    "            break\n",
    "        doc = pq(next_button) \n",
    "    \n",
    "\n",
    "getPTTArticle('NBA')"
   ]
  },
  {
   "cell_type": "code",
   "execution_count": null,
   "metadata": {},
   "outputs": [],
   "source": []
  },
  {
   "cell_type": "code",
   "execution_count": null,
   "metadata": {},
   "outputs": [],
   "source": []
  }
 ],
 "metadata": {
  "kernelspec": {
   "display_name": "Python 3",
   "language": "python",
   "name": "python3"
  },
  "language_info": {
   "codemirror_mode": {
    "name": "ipython",
    "version": 3
   },
   "file_extension": ".py",
   "mimetype": "text/x-python",
   "name": "python",
   "nbconvert_exporter": "python",
   "pygments_lexer": "ipython3",
   "version": "3.6.4"
  }
 },
 "nbformat": 4,
 "nbformat_minor": 2
}
