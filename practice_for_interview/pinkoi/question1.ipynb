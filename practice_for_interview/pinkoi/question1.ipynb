{
 "cells": [
  {
   "cell_type": "code",
   "execution_count": 40,
   "metadata": {},
   "outputs": [
    {
     "name": "stdout",
     "output_type": "stream",
     "text": [
      "a a a a a b b b ede efa bf\n",
      "asd bdfs asdasfwafw\n",
      "asdfawet gregs\n",
      "b fawef\n",
      "asdfasdf\n",
      "{'a': 5, 'b': 4, 'ede': 1, 'efa': 1, 'bf': 1, 'asd': 1, 'bdfs': 1, 'asdasfwafw': 1, 'asdfawet': 1, 'gregs': 1, 'fawef': 1, 'asdfasdf': 1}\n"
     ]
    }
   ],
   "source": [
    "# 去 pinkoi 面試的白板題第一題\n",
    "# 題目：當今天有一個文字檔案需要讀取，讀取進入後，把字串出現的次數存進 dictionary 裡\n",
    "\n",
    "# 第一階段回答與補充\n",
    "\n",
    "text_dict = {}\n",
    "with open ('test.txt', 'r') as f :\n",
    "    line = f.read() # 我當時不記得 f.read() 而是直接把 f 執行split()\n",
    "    print(line)\n",
    "    for i in line.split():\n",
    "        # if text_dict[i]: 我當時這樣回答 沒有被指出錯誤 不過這句語法其實無法執行 \n",
    "        if i in text_dict:\n",
    "            text_dict[i] += 1\n",
    "        else:\n",
    "            text_dict[i] = 1\n",
    "    \n",
    "    print(text_dict)\n",
    "    \n",
    "\n",
    "\n"
   ]
  },
  {
   "cell_type": "code",
   "execution_count": 32,
   "metadata": {},
   "outputs": [
    {
     "name": "stdout",
     "output_type": "stream",
     "text": [
      "a a a a a b b b ede efa bf\n",
      "asd bdfs asdasfwafw\n",
      "asdfawet gregs\n",
      "b fawef\n",
      "asdfasdf\n",
      "{'a': 5, 'b': 4, 'ede': 1, 'efa': 1, 'bf': 1, 'asd': 1, 'bdfs': 1, 'asdasfwafw': 1, 'asdfawet': 1, 'gregs': 1, 'fawef': 1, 'asdfasdf': 1}\n"
     ]
    }
   ],
   "source": [
    "# 第二階段 面試官詢問我，如果今天要求讀取的檔案非常大 比 ram 還要大 那這時該怎麼辦\n",
    "# 因為沒有使用過確切的語法 所以我直接回答 沒有這樣的經驗不知道該怎麼解決，他指出試著回答看看\n",
    "# 於是我說或許就是分段讀入吧， 但是因為沒有 API 經驗，所以也不會使用， 於是他直接提醒我可以使用 f.readline()\n",
    "\n",
    "text_dict = {}\n",
    "with open ('test.txt', 'r') as f :\n",
    "    \n",
    "    # 使用 f.readline 一次只讀取一行 所以用 While 循環\n",
    "    while True:\n",
    "        # 這邊由於換行符，所以 strip掉\n",
    "        line = f.readline().strip('\\n')\n",
    "        if line:\n",
    "            print(line)\n",
    "\n",
    "            for i in line.split(' '):\n",
    "                # if text_dict[i]: 我當時這樣回答 沒有被指出錯誤 不過這句語法其實無法執行 \n",
    "                if i in text_dict:\n",
    "                    text_dict[i] += 1\n",
    "                else:\n",
    "                    text_dict[i] = 1\n",
    "        else: \n",
    "            break\n",
    "\n",
    "    print(text_dict)"
   ]
  },
  {
   "cell_type": "code",
   "execution_count": 33,
   "metadata": {},
   "outputs": [
    {
     "name": "stdout",
     "output_type": "stream",
     "text": [
      "a a a a a b b b ede efa bf\n",
      "asd bdfs asdasfwafw\n",
      "asdfawet gregs\n",
      "b fawef\n",
      "asdfasdf\n",
      "\n",
      "{'a': 5, 'b': 4, 'ede': 1, 'efa': 1, 'bf': 1, 'asd': 1, 'bdfs': 1, 'asdasfwafw': 1, 'asdfawet': 1, 'gregs': 1, 'fawef': 1, 'asdfasdf': 1}\n"
     ]
    }
   ],
   "source": [
    "# 網路教學的另外一些解法 f.read(加參數)\n",
    "\n",
    "text_dict = {}\n",
    "with open ('test.txt', 'r') as f :\n",
    "    \n",
    "    # 使用 f.read()沒有一次讀完 所以用 While 循環\n",
    "    while True:\n",
    "        line = f.read(1024).strip('\\n') # read() 加參數\n",
    "        print(line)\n",
    "        if line:\n",
    "\n",
    "            for i in line.split(): # 沒加入任何參數的話 分隔換行 跟 空格\n",
    "                # if text_dict[i]: 我當時這樣回答 沒有被指出錯誤 不過這句語法其實無法執行 \n",
    "                if i in text_dict:\n",
    "                    text_dict[i] += 1\n",
    "                else:\n",
    "                    text_dict[i] = 1\n",
    "        else: \n",
    "            break\n",
    "\n",
    "    print(text_dict)"
   ]
  },
  {
   "cell_type": "code",
   "execution_count": 37,
   "metadata": {},
   "outputs": [
    {
     "name": "stdout",
     "output_type": "stream",
     "text": [
      "{'a': 5, 'b': 4, 'ede': 1, 'efa': 1, 'bf': 1, 'asd': 1, 'bdfs': 1, 'asdasfwafw': 1, 'asdfawet': 1, 'gregs': 1, 'fawef': 1, 'asdfasdf': 1}\n"
     ]
    }
   ],
   "source": [
    "# 網路教學的另外一些解法 直接操作 f\n",
    "# for f in f，會自動地使用緩衝IO（buffered IO）以及內存管理，而不必擔心任何大文件的問題。\n",
    "\n",
    "text_dict = {}\n",
    "with open ('test.txt', 'r') as f :\n",
    "    \n",
    "    # 使用 f.read()沒有一次讀完 所以用 While 循環\n",
    "    for line in f:\n",
    "        if line:\n",
    "\n",
    "            for i in line.split(): # 沒加入任何參數的話 分隔換行 跟 空格\n",
    "                # if text_dict[i]: 我當時這樣回答 沒有被指出錯誤 不過這句語法其實無法執行 \n",
    "                if i in text_dict:\n",
    "                    text_dict[i] += 1\n",
    "                else:\n",
    "                    text_dict[i] = 1\n",
    "        else: \n",
    "            break\n",
    "\n",
    "    print(text_dict)"
   ]
  },
  {
   "cell_type": "code",
   "execution_count": null,
   "metadata": {},
   "outputs": [],
   "source": []
  }
 ],
 "metadata": {
  "kernelspec": {
   "display_name": "Python 3",
   "language": "python",
   "name": "python3"
  },
  "language_info": {
   "codemirror_mode": {
    "name": "ipython",
    "version": 3
   },
   "file_extension": ".py",
   "mimetype": "text/x-python",
   "name": "python",
   "nbconvert_exporter": "python",
   "pygments_lexer": "ipython3",
   "version": "3.6.4"
  }
 },
 "nbformat": 4,
 "nbformat_minor": 2
}
