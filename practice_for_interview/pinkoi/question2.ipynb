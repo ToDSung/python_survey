{
 "cells": [
  {
   "cell_type": "code",
   "execution_count": 42,
   "metadata": {},
   "outputs": [
    {
     "name": "stdout",
     "output_type": "stream",
     "text": [
      "55\n"
     ]
    }
   ],
   "source": [
    "# pinkoi 面試的第二題， 嘗試算出費氏數列的值\n",
    "\n",
    "# 我寫的 這樣的問題是 遞迴會重複計算很多次\n",
    "def fib(n):\n",
    "    if n == 1 or n == 2:\n",
    "        return 1\n",
    "    else:\n",
    "        return fib(n-1) + fib(n-2)\n",
    "\n",
    "print(fib(10))"
   ]
  },
  {
   "cell_type": "code",
   "execution_count": 40,
   "metadata": {},
   "outputs": [
    {
     "name": "stdout",
     "output_type": "stream",
     "text": [
      "4224696333392304878706725602341482782579852840250681098010280137314308584370130707224123599639141511088446087538909603607640194711643596029271983312598737326253555802606991585915229492453904998722256795316982874482472992263901833716778060607011615497886719879858311468870876264597369086722884023654422295243347964480139515349562972087652656069529806499841977448720155612802665404554171717881930324025204312082516817125\n"
     ]
    }
   ],
   "source": [
    "# 談論到該怎麼增進效能\n",
    "# 由於之前看的文章，我了解可以把 fib(n)存進 一個 dict 裡\n",
    "# 不過中間卡住 所以沒實作好， 下面重新寫上正確的寫法\n",
    "# 同樣都是 fib(100) 的情況下 原本的方法已經需要非常久，下面這樣可以馬上完成\n",
    "\n",
    "fib_dict = {}\n",
    "\n",
    "def fib(n):\n",
    "    if n in fib_dict:\n",
    "        return fib_dict[n]\n",
    "    else:\n",
    "        if n == 1 or n == 2:\n",
    "            fib_dict[n] = 1\n",
    "            return 1\n",
    "        else:\n",
    "            fib_dict[n] = fib(n-2) + fib(n-1)\n",
    "            return fib(n-2) + fib(n-1)\n",
    "\n",
    "print(fib(2000))\n"
   ]
  },
  {
   "cell_type": "code",
   "execution_count": 46,
   "metadata": {},
   "outputs": [
    {
     "name": "stdout",
     "output_type": "stream",
     "text": [
      "55\n"
     ]
    }
   ],
   "source": [
    "# 談論到該該怎麼增進效能\n",
    "# 面試官提到的解法也能使用 list 下面試試 list 的解法\n",
    "# 試著做完 才發連需 list 都不需要了\n",
    "# 1 1 2 3 5 8 13 21 34 55 89\n",
    "# fib_list = []\n",
    "\n",
    "def fib(n):\n",
    "    a = 0\n",
    "    b = 1\n",
    "    for i in range(n):\n",
    "    #     fib_list.append(b)\n",
    "        a, b = b, a+b\n",
    "    return a    \n",
    "    # return fib_list[n-1]\n",
    "\n",
    "print(fib(10))\n",
    "\n"
   ]
  },
  {
   "cell_type": "code",
   "execution_count": null,
   "metadata": {},
   "outputs": [],
   "source": []
  }
 ],
 "metadata": {
  "kernelspec": {
   "display_name": "Python 3",
   "language": "python",
   "name": "python3"
  },
  "language_info": {
   "codemirror_mode": {
    "name": "ipython",
    "version": 3
   },
   "file_extension": ".py",
   "mimetype": "text/x-python",
   "name": "python",
   "nbconvert_exporter": "python",
   "pygments_lexer": "ipython3",
   "version": "3.6.4"
  }
 },
 "nbformat": 4,
 "nbformat_minor": 2
}
