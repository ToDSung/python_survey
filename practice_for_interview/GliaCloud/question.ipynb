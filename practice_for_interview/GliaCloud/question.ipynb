{
 "cells": [
  {
   "cell_type": "code",
   "execution_count": 6,
   "metadata": {},
   "outputs": [
    {
     "name": "stdout",
     "output_type": "stream",
     "text": [
      "first normal arg: yasoob\n",
      "('python', 'eggs', 'test')\n",
      "another arg through *argv: python\n",
      "another arg through *argv: eggs\n",
      "another arg through *argv: test\n",
      "name == yasoob\n"
     ]
    }
   ],
   "source": [
    "# 什麼是 *args, **kwargs\n",
    "\n",
    "def test_var_args(f_arg, *args):\n",
    "    print(\"first normal arg:\", f_arg)\n",
    "    print(args)\n",
    "    for arg in args:\n",
    "        print(\"another arg through *argv:\", arg)\n",
    "\n",
    "test_var_args('yasoob', 'python', 'eggs', 'test')\n",
    "\n",
    "# 傳 key value 的值\n",
    "def greet_me(**kwargs):\n",
    "    for key, value in kwargs.items():\n",
    "        print(\"{0} == {1}\".format(key, value))\n",
    "\n",
    "\n",
    "greet_me(name=\"yasoob\")\n"
   ]
  },
  {
   "cell_type": "code",
   "execution_count": null,
   "metadata": {},
   "outputs": [],
   "source": [
    "# 什麼是 picklable\n",
    "# The pickle module implements binary protocols for serializing and de-serializing a Python object structure\n",
    "\n",
    "# 根據官方文件 3.14.4 What can be pickled and unpickled?\n",
    "# None, True, and False\n",
    "# integers, long integers, floating point numbers, complex numbers\n",
    "# normal and Unicode strings\n",
    "# tuples, lists, sets, and dictionaries containing only picklable objects\n",
    "# functions defined at the top level of a module\n",
    "# built-in functions defined at the top level of a module\n",
    "# classes that are defined at the top level of a module "
   ]
  },
  {
   "cell_type": "code",
   "execution_count": 8,
   "metadata": {},
   "outputs": [
    {
     "name": "stdout",
     "output_type": "stream",
     "text": [
      "Quaaaaaack!\n",
      "bird imitate duck.\n",
      "doge imitate duck.\n"
     ]
    }
   ],
   "source": [
    "# 什麼是 duck typing\n",
    "\n",
    "# 起源\n",
    "# 「當我看到一隻鳥，它走路像鴨子，游泳像鴨子，叫聲像鴨子，我就稱其為鴨子」\n",
    "\n",
    "# 不關心物件型別 只要兩者有一樣的方法那就都接受\n",
    "class Duck:\n",
    "    def quack(self):\n",
    "        print(\"Quaaaaaack!\")\n",
    " \n",
    "class Bird:\n",
    "    def quack(self):\n",
    "        print(\"bird imitate duck.\")\n",
    " \n",
    "class Doge:\n",
    "    def quack(self):\n",
    "        print(\"doge imitate duck.\")\n",
    " \n",
    "def in_the_forest(duck):\n",
    "    duck.quack()\n",
    " \n",
    "duck = Duck()\n",
    "bird = Bird()\n",
    "doge = Doge()\n",
    "for x in [duck, bird, doge]:\n",
    "    in_the_forest(x)\n"
   ]
  },
  {
   "cell_type": "code",
   "execution_count": 10,
   "metadata": {},
   "outputs": [
    {
     "name": "stdout",
     "output_type": "stream",
     "text": [
      "True\n",
      "True\n",
      "True\n",
      "True\n",
      "False\n"
     ]
    }
   ],
   "source": [
    "# 什麼是 iterable\n",
    "\n",
    "# 一類是集合數據類型，如list / tuple / dict / set / str /等;\n",
    "# 一類是generator，包括生成器和帶yield的generator function。\n",
    "\n",
    "# 這些可以直接作用於for循環的對象統稱為可迭代對象：Iterable。\n",
    "\n",
    "from collections import Iterable \n",
    "print(isinstance([], Iterable))\n",
    "# True\n",
    "print(isinstance({}, Iterable))\n",
    "# True\n",
    "print(isinstance('abc', Iterable))\n",
    "# True\n",
    "print(isinstance((x for x in range(10)), Iterable))\n",
    "# True\n",
    "print(isinstance(100, Iterable))\n",
    "# False\n",
    "\n",
    "# 凡是可作用於for循環的 object 都是 Iterable（可迭代物件）類型;\n",
    "\n",
    "# 凡是可以作用於next()函數的 object 都是 Iterator 類型"
   ]
  },
  {
   "cell_type": "code",
   "execution_count": null,
   "metadata": {},
   "outputs": [],
   "source": [
    "# 什麼是 Monkey Patch\n",
    "# 簡單來說，Monkey Patch 就是在 run time 時動態更改 class 或是 module 已經定義好的函數或是屬性內容。\n",
    "# 實務上常見的使用在 test 上用來 mock 行為或是 gevent 函式庫等。"
   ]
  },
  {
   "cell_type": "code",
   "execution_count": 12,
   "metadata": {},
   "outputs": [
    {
     "name": "stdout",
     "output_type": "stream",
     "text": [
      "<class 'int'>\n",
      "<class 'str'>\n",
      "<class 'function'>\n",
      "<class '__main__.Bar'>\n",
      "<class 'type'>\n"
     ]
    }
   ],
   "source": [
    "# 什麼是 mata class\n",
    "\n",
    "# 先理解什麼是 class\n",
    "# class 也是 object 物件\n",
    "# 1. 你可以將它賦值給一個變量\n",
    "# 2. 你可以拷貝它\n",
    "# 3. 你可以為它增加屬性\n",
    "# 4. 你可以將它作為函數參數進行傳遞\n",
    "\n",
    "# metaclass 是用來創建 class 的東西\n",
    "# MyClass = MetaClass()\n",
    "# MyObject = MyClass()\n",
    "\n",
    "age = 35\n",
    "print(age.__class__)\n",
    "# <type 'int'>\n",
    "name = 'bob'\n",
    "print(name.__class__)\n",
    "# <type 'str'>\n",
    "def foo(): \n",
    "    pass\n",
    "print(foo.__class__)\n",
    "# <type 'function'>\n",
    "class Bar(object): \n",
    "    pass\n",
    "b = Bar()\n",
    "print(b.__class__)\n",
    "# <class '__main__.Bar'>\n",
    "\n",
    "print(b.__class__.__class__)\n",
    "# <class 'type'>"
   ]
  },
  {
   "cell_type": "code",
   "execution_count": null,
   "metadata": {},
   "outputs": [],
   "source": []
  }
 ],
 "metadata": {
  "kernelspec": {
   "display_name": "Python 3",
   "language": "python",
   "name": "python3"
  },
  "language_info": {
   "codemirror_mode": {
    "name": "ipython",
    "version": 3
   },
   "file_extension": ".py",
   "mimetype": "text/x-python",
   "name": "python",
   "nbconvert_exporter": "python",
   "pygments_lexer": "ipython3",
   "version": "3.6.4"
  }
 },
 "nbformat": 4,
 "nbformat_minor": 2
}
