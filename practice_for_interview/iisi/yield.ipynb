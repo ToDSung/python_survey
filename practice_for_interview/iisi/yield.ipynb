{
 "cells": [
  {
   "cell_type": "code",
   "execution_count": 2,
   "metadata": {},
   "outputs": [
    {
     "name": "stdout",
     "output_type": "stream",
     "text": [
      "0\n",
      "1\n",
      "2\n",
      "3\n",
      "4\n",
      "5\n",
      "6\n",
      "7\n",
      "8\n",
      "9\n"
     ]
    }
   ],
   "source": [
    "# 在def所定義的本體中，若包括yield運算式，則Python會將之編譯為一個產生器（Generator）。\n",
    "# 產生器物件是個具有迭代器（Iterator）介面的物件\n",
    "\n",
    "def myrange(n):\n",
    "    x = 0 \n",
    "    while True:\n",
    "        yield x\n",
    "        x += 1\n",
    "        if x == n:\n",
    "            break\n",
    "            \n",
    "for i in myrange(10):\n",
    "    print(i)\n",
    "    "
   ]
  },
  {
   "cell_type": "code",
   "execution_count": 3,
   "metadata": {},
   "outputs": [
    {
     "name": "stdout",
     "output_type": "stream",
     "text": [
      "0\n",
      "1\n",
      "2\n",
      "3\n",
      "4\n"
     ]
    }
   ],
   "source": [
    "# 產生器物件是個具有迭代器（Iterator）介面的物件，也就是說，它具有__next__()方法，\n",
    "# 可以使用next()函式來取出下一個值，若無法產生下一個值，則會丟出StopIteration物件。\n",
    "\n",
    "a = myrange(5)\n",
    "print(next(a))\n",
    "print(next(a))\n",
    "print(next(a))\n",
    "print(next(a))\n",
    "print(next(a))"
   ]
  },
  {
   "cell_type": "code",
   "execution_count": 10,
   "metadata": {},
   "outputs": [
    {
     "name": "stdout",
     "output_type": "stream",
     "text": [
      "3\n",
      "10\n"
     ]
    }
   ],
   "source": [
    "# generator.send(value)：和 generator.next() 類似，\n",
    "# 差別僅在與它會將當前 yield 表達式的值設置為 value。\n",
    "\n",
    "# Python 之所以要提供這樣的解決方案，是因為在很多時候，我們只是需要逐個順序訪問容器內的元素。\n",
    "# 大多數時候，我們不需要「一口氣獲取容器內所有的元素」\n",
    "\n",
    "def yield_fun():\n",
    "    a = 3\n",
    "    b = 4\n",
    "     \n",
    "    b = yield a\n",
    "    yield b     \n",
    "    \n",
    "generator = yield_fun()\n",
    "print(next(generator))\n",
    "print(generator.send(10))"
   ]
  },
  {
   "cell_type": "code",
   "execution_count": null,
   "metadata": {},
   "outputs": [],
   "source": []
  }
 ],
 "metadata": {
  "kernelspec": {
   "display_name": "Python 3",
   "language": "python",
   "name": "python3"
  },
  "language_info": {
   "codemirror_mode": {
    "name": "ipython",
    "version": 3
   },
   "file_extension": ".py",
   "mimetype": "text/x-python",
   "name": "python",
   "nbconvert_exporter": "python",
   "pygments_lexer": "ipython3",
   "version": "3.6.4"
  }
 },
 "nbformat": 4,
 "nbformat_minor": 2
}
