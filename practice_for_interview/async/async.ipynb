{
 "cells": [
  {
   "cell_type": "code",
   "execution_count": 1,
   "metadata": {},
   "outputs": [
    {
     "name": "stdout",
     "output_type": "stream",
     "text": [
      "Compute 1 + 2 ...\n",
      "1 + 2 = 3\n"
     ]
    }
   ],
   "source": [
    "import asyncio\n",
    "import time\n",
    "\n",
    "# awiat 等待 return 再繼續執行\n",
    "\n",
    "async def compute(x, y):\n",
    "    print(\"Compute %s + %s ...\" % (x, y))\n",
    "    time.sleep(1)\n",
    "    #await asyncio.sleep(1.0)\n",
    "    return x + y\n",
    "\n",
    "async def print_sum(x, y):\n",
    "    result = await compute(x, y)\n",
    "    print(\"%s + %s = %s\" % (x, y, result))\n",
    "\n",
    "loop = asyncio.get_event_loop()\n",
    "loop.run_until_complete(print_sum(1, 2))\n",
    "loop.close()"
   ]
  },
  {
   "cell_type": "code",
   "execution_count": 6,
   "metadata": {},
   "outputs": [
    {
     "name": "stdout",
     "output_type": "stream",
     "text": [
      "started at 21:52:39\n",
      "hello\n",
      "world\n",
      "finished at 21:52:41\n"
     ]
    }
   ],
   "source": [
    "import asyncio\n",
    "import time\n",
    "\n",
    "async def say_after(delay, what):\n",
    "    await asyncio.sleep(delay)\n",
    "    print(what)\n",
    "\n",
    "# async def main():\n",
    "#     print(f\"started at {time.strftime('%X')}\")\n",
    "\n",
    "#     await say_after(1, 'hello')\n",
    "#     await say_after(2, 'world')\n",
    "\n",
    "#     print(f\"finished at {time.strftime('%X')}\")\n",
    "\n",
    "async def main():\n",
    "#  version 3.7\n",
    "#     task1 = asyncio.create_task(\n",
    "#         say_after(1, 'hello'))\n",
    "\n",
    "#     task2 = asyncio.create_task(\n",
    "#         say_after(2, 'world'))\n",
    "\n",
    "# version 3.6 \n",
    "\n",
    "# 建立 task 讓 兩次程式只等待兩秒鐘\n",
    "\n",
    "    task1 = asyncio.ensure_future(\n",
    "        say_after(1, 'hello'))\n",
    "\n",
    "    task2 = asyncio.ensure_future(\n",
    "        say_after(2, 'world'))\n",
    "\n",
    "    print(f\"started at {time.strftime('%X')}\")\n",
    "\n",
    "    # Wait until both tasks are completed (should take\n",
    "    # around 2 seconds.)\n",
    "    await task1\n",
    "    await task2\n",
    "          \n",
    "    print(f\"finished at {time.strftime('%X')}\")\n",
    "\n",
    "# version 3.7\n",
    "# asyncio.run(main())\n",
    "\n",
    "# version 3.6\n",
    "loop = asyncio.new_event_loop()      \n",
    "# 理想的程式應該是在一個時間循環中解決掉各種非同步IO的問題\n",
    "# loop = asyncio.get_event_loop()\n",
    "loop.run_until_complete(main())\n",
    "loop.close()"
   ]
  },
  {
   "cell_type": "code",
   "execution_count": null,
   "metadata": {},
   "outputs": [],
   "source": []
  }
 ],
 "metadata": {
  "kernelspec": {
   "display_name": "Python 3",
   "language": "python",
   "name": "python3"
  },
  "language_info": {
   "codemirror_mode": {
    "name": "ipython",
    "version": 3
   },
   "file_extension": ".py",
   "mimetype": "text/x-python",
   "name": "python",
   "nbconvert_exporter": "python",
   "pygments_lexer": "ipython3",
   "version": "3.6.4"
  }
 },
 "nbformat": 4,
 "nbformat_minor": 2
}
