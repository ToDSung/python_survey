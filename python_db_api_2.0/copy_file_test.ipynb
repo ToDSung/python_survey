{
 "cells": [
  {
   "cell_type": "code",
   "execution_count": 3,
   "metadata": {},
   "outputs": [
    {
     "name": "stdout",
     "output_type": "stream",
     "text": [
      "/home/mingchien353/CSD/feedback\n",
      "/home/mingchien353/CSD/feedback\n"
     ]
    },
    {
     "ename": "FileNotFoundError",
     "evalue": "[Errno 2] No such file or directory: '/home/mingchien353/CSD/CSD_data20180613'",
     "output_type": "error",
     "traceback": [
      "\u001b[0;31m---------------------------------------------------------------------------\u001b[0m",
      "\u001b[0;31mFileNotFoundError\u001b[0m                         Traceback (most recent call last)",
      "\u001b[0;32m<ipython-input-3-7483609b7f50>\u001b[0m in \u001b[0;36m<module>\u001b[0;34m()\u001b[0m\n\u001b[1;32m     83\u001b[0m \u001b[0;34m\u001b[0m\u001b[0m\n\u001b[1;32m     84\u001b[0m     \u001b[0mcopy_file\u001b[0m\u001b[0;34m(\u001b[0m\u001b[0mall_files_list\u001b[0m\u001b[0;34m,\u001b[0m \u001b[0mBACKUP_DIR\u001b[0m \u001b[0;34m+\u001b[0m \u001b[0;34m'/'\u001b[0m \u001b[0;34m+\u001b[0m \u001b[0mtime\u001b[0m\u001b[0;34m.\u001b[0m\u001b[0mstrftime\u001b[0m\u001b[0;34m(\u001b[0m\u001b[0;34m'%Y%m%d'\u001b[0m\u001b[0;34m)\u001b[0m \u001b[0;34m)\u001b[0m\u001b[0;34m\u001b[0m\u001b[0m\n\u001b[0;32m---> 85\u001b[0;31m     \u001b[0mfolder_to_zip\u001b[0m\u001b[0;34m(\u001b[0m\u001b[0mBACKUP_DIR\u001b[0m \u001b[0;34m+\u001b[0m \u001b[0;34m'/CSD_data'\u001b[0m \u001b[0;34m+\u001b[0m \u001b[0mtime\u001b[0m\u001b[0;34m.\u001b[0m\u001b[0mstrftime\u001b[0m\u001b[0;34m(\u001b[0m\u001b[0;34m'%Y%m%d'\u001b[0m\u001b[0;34m)\u001b[0m\u001b[0;34m)\u001b[0m\u001b[0;34m\u001b[0m\u001b[0m\n\u001b[0m\u001b[1;32m     86\u001b[0m     \u001b[0mfolder_to_tar\u001b[0m\u001b[0;34m(\u001b[0m\u001b[0mBACKUP_DIR\u001b[0m \u001b[0;34m+\u001b[0m \u001b[0;34m'/CSD_data_'\u001b[0m \u001b[0;34m+\u001b[0m \u001b[0mtime\u001b[0m\u001b[0;34m.\u001b[0m\u001b[0mstrftime\u001b[0m\u001b[0;34m(\u001b[0m\u001b[0;34m'%Y%m%d'\u001b[0m\u001b[0;34m)\u001b[0m\u001b[0;34m)\u001b[0m\u001b[0;34m\u001b[0m\u001b[0m\n\u001b[1;32m     87\u001b[0m \u001b[0;34m\u001b[0m\u001b[0m\n",
      "\u001b[0;32m<ipython-input-3-7483609b7f50>\u001b[0m in \u001b[0;36mfolder_to_zip\u001b[0;34m(folder_path, zip_path)\u001b[0m\n\u001b[1;32m     19\u001b[0m     \u001b[0;32melse\u001b[0m\u001b[0;34m:\u001b[0m\u001b[0;34m\u001b[0m\u001b[0m\n\u001b[1;32m     20\u001b[0m         \u001b[0mzf\u001b[0m \u001b[0;34m=\u001b[0m \u001b[0mzipfile\u001b[0m\u001b[0;34m.\u001b[0m\u001b[0mZipFile\u001b[0m\u001b[0;34m(\u001b[0m\u001b[0mzip_path\u001b[0m\u001b[0;34m,\u001b[0m\u001b[0mmode\u001b[0m\u001b[0;34m=\u001b[0m\u001b[0;34m'w'\u001b[0m\u001b[0;34m)\u001b[0m\u001b[0;34m\u001b[0m\u001b[0m\n\u001b[0;32m---> 21\u001b[0;31m     \u001b[0mos\u001b[0m\u001b[0;34m.\u001b[0m\u001b[0mchdir\u001b[0m\u001b[0;34m(\u001b[0m\u001b[0mfolder_path\u001b[0m\u001b[0;34m)\u001b[0m\u001b[0;34m\u001b[0m\u001b[0m\n\u001b[0m\u001b[1;32m     22\u001b[0m     \u001b[0mprint\u001b[0m\u001b[0;34m(\u001b[0m\u001b[0mfolder_path\u001b[0m\u001b[0;34m)\u001b[0m\u001b[0;34m\u001b[0m\u001b[0m\n\u001b[1;32m     23\u001b[0m     \u001b[0;32mfor\u001b[0m \u001b[0mroot\u001b[0m\u001b[0;34m,\u001b[0m \u001b[0mfolders\u001b[0m\u001b[0;34m,\u001b[0m \u001b[0mfiles\u001b[0m \u001b[0;32min\u001b[0m \u001b[0mos\u001b[0m\u001b[0;34m.\u001b[0m\u001b[0mwalk\u001b[0m\u001b[0;34m(\u001b[0m\u001b[0;34m'./'\u001b[0m\u001b[0;34m)\u001b[0m\u001b[0;34m:\u001b[0m\u001b[0;34m\u001b[0m\u001b[0m\n",
      "\u001b[0;31mFileNotFoundError\u001b[0m: [Errno 2] No such file or directory: '/home/mingchien353/CSD/CSD_data20180613'"
     ]
    }
   ],
   "source": [
    "import os \n",
    "import shutil\n",
    "import time\n",
    "import tarfile\n",
    "import zipfile\n",
    "\n",
    "\n",
    "def get_complete_path(basic_path, files_name):\n",
    "    \n",
    "    paths_list = []\n",
    "    for file in files_name:\n",
    "        paths_list.append(os.path.join(basic_path, file))\n",
    "    \n",
    "    return paths_list\n",
    "                               \n",
    "def folder_to_zip(folder_path, zip_path=''):\n",
    "    if (zip_path == ''):\n",
    "        zf = zipfile.ZipFile(folder_path + '.zip', mode='w')\n",
    "    else:\n",
    "        zf = zipfile.ZipFile(zip_path,mode='w')\n",
    "    os.chdir(folder_path)\n",
    "    print(folder_path)\n",
    "    for root, folders, files in os.walk('./'):\n",
    "        for sfile in files:\n",
    "            aFile = os.path.join(root, sfile)\n",
    "            zf.write(aFile)\n",
    "    zf.close()\n",
    "    os.chdir(SOURCE_DIR)\n",
    "\n",
    "def folder_to_tar(folder_path, tar_path=''):\n",
    "    if (tar_path == ''):\n",
    "        tf = tarfile.open(folder_path + '.tar', mode='w')\n",
    "    else:\n",
    "        tf = tarfile.open.open(tar_path,mode='w')\n",
    "    os.chdir(folder_path)\n",
    "    print(folder_path)\n",
    "    for root, folders, files in os.walk('./'):\n",
    "        for sfile in files:\n",
    "            aFile = os.path.join(root, sfile)\n",
    "            tf.add(aFile)\n",
    "    tf.close()\n",
    "    os.chdir(SOURCE_DIR)\n",
    "\n",
    "def copy_file(files_list, backup_dir):\n",
    "    \n",
    "    if not os.path.isdir(backup_dir):\n",
    "        os.mkdir(backup_dir)\n",
    "        \n",
    "    for file in files_list:\n",
    "        shutil.copyfile(file, os.path.join(backup_dir, file.split('/')[-1]))\n",
    "                               \n",
    "if __name__ == '__main__':\n",
    "    \n",
    "    SOURCE_DIR = '/home/mingchien353/CSD'\n",
    "    BACKUP_DIR = '/home/mingchien353/CSD'\n",
    "\n",
    "    exchange_rate_file_name = ['futures.json', 'actuals.json', 'currency_p1.json', 'currency_p2.json']\n",
    "    basic_rate_path = os.path.join(SOURCE_DIR, 'json_files')\n",
    "\n",
    "    hscode_path = [os.path.join(SOURCE_DIR, 'crawler_itc', 'src' , 'hs_cname_mapping.json')]\n",
    "\n",
    "    basic_itc_path = os.path.join(SOURCE_DIR, 'graphs', 'output')\n",
    "    itc_file_name = ['map.json', 'pie.json', 'scatter.json', 'ranking.zip']\n",
    "\n",
    "\n",
    "    basic_wordcloud_path = os.path.join(SOURCE_DIR, 'crawler_wordcloud', 'json_files')\n",
    "    wordcloud_file_name = ['animal_content.json', 'butterfly_content.json', 'wordcloud_content.json', 'animal_table.json', 'butterfly_table.json', 'wordcloud_table.json']\n",
    "\n",
    "    feedback_path = os.path.join(SOURCE_DIR,'feedback')\n",
    "    feedback_zip_path = [os.path.join(SOURCE_DIR, 'feedback.zip')]\n",
    "    feedback_tar_path = [os.path.join(SOURCE_DIR, 'feedback.tar')]\n",
    "    \n",
    "    folder_to_zip(feedback_path)\n",
    "    folder_to_tar(feedback_path)\n",
    "    \n",
    "    all_files_list = []\n",
    "    all_files_list.extend(get_complete_path(basic_rate_path, exchange_rate_file_name))\n",
    "    all_files_list.extend(get_complete_path(basic_itc_path, itc_file_name))\n",
    "    all_files_list.extend(get_complete_path(basic_wordcloud_path, wordcloud_file_name))\n",
    "    all_files_list.extend(hscode_path)\n",
    "    all_files_list.extend(feedback_zip_path)\n",
    "    all_files_list.extend(feedback_tar_path)\n",
    "    \n",
    "    copy_file(all_files_list, BACKUP_DIR + '/' + time.strftime('%Y%m%d') )\n",
    "    folder_to_zip(BACKUP_DIR + '/CSD_data' + time.strftime('%Y%m%d'))\n",
    "    folder_to_tar(BACKUP_DIR + '/CSD_data_' + time.strftime('%Y%m%d'))\n",
    "    \n",
    "    \n",
    "    \n",
    "                \n",
    "    \n",
    "    \n",
    "    "
   ]
  },
  {
   "cell_type": "code",
   "execution_count": null,
   "metadata": {
    "collapsed": true
   },
   "outputs": [],
   "source": []
  },
  {
   "cell_type": "code",
   "execution_count": null,
   "metadata": {
    "collapsed": true
   },
   "outputs": [],
   "source": []
  }
 ],
 "metadata": {
  "kernelspec": {
   "display_name": "Python 3",
   "language": "python",
   "name": "python3"
  },
  "language_info": {
   "codemirror_mode": {
    "name": "ipython",
    "version": 3
   },
   "file_extension": ".py",
   "mimetype": "text/x-python",
   "name": "python",
   "nbconvert_exporter": "python",
   "pygments_lexer": "ipython3",
   "version": "3.6.3"
  }
 },
 "nbformat": 4,
 "nbformat_minor": 2
}
