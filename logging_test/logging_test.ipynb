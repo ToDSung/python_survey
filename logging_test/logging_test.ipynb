{
 "cells": [
  {
   "cell_type": "code",
   "execution_count": 2,
   "metadata": {},
   "outputs": [
    {
     "name": "stderr",
     "output_type": "stream",
     "text": [
      "[17:04:10][line:31]function：<module>：debug\n",
      "[17:04:10][line:32]function：<module>：info\n",
      "[17:04:10][line:33]function：<module>：warning\n",
      "[17:04:10][line:34]function：<module>：error\n",
      "[17:04:10][line:35]function：<module>：critical\n"
     ]
    }
   ],
   "source": [
    "import logging\n",
    "import datetime\n",
    "'''\n",
    "log_filename = datetime.datetime.now().strftime(\"%Y-%m.log\")\n",
    "logging.basicConfig(level=logging.DEBUG,\n",
    "            format='%(asctime)s %(name)-12s %(levelname)-8s %(message)s',\n",
    "            datefmt='%m-%d %H:%M:%S')\n",
    "'''\n",
    "def get_my_logger():\n",
    "# 定義 handler 輸出 sys.stderr\n",
    "# handler對象負責發送相關的信息到指定目的地。\n",
    "    logger = logging.getLogger('')\n",
    "    if not logger.handlers:\n",
    "        logger.setLevel(logging.DEBUG)\n",
    "\n",
    "        console = logging.StreamHandler()\n",
    "        console.setLevel(logging.DEBUG)\n",
    "\n",
    "        # 設定輸出格式\n",
    "        formatter = logging.Formatter('[%(asctime)s][line:%(lineno)d]function：%(funcName)s：%(message)s'\n",
    "                                      ,datefmt='%H:%M:%S')\n",
    "        # handler 設定輸出格式\n",
    "        console.setFormatter(formatter)\n",
    "        # 加入 hander 到 root logger\n",
    "\n",
    "        logger.addHandler(console)\n",
    "    return logger\n",
    "\n",
    "logger = get_my_logger()\n",
    "\n",
    "logger.debug('debug')\n",
    "logger.info('info')\n",
    "logger.warning('warning')\n",
    "logger.error('error')\n",
    "logger.critical('critical')"
   ]
  },
  {
   "cell_type": "code",
   "execution_count": null,
   "metadata": {},
   "outputs": [],
   "source": []
  },
  {
   "cell_type": "code",
   "execution_count": null,
   "metadata": {},
   "outputs": [],
   "source": []
  },
  {
   "cell_type": "code",
   "execution_count": null,
   "metadata": {},
   "outputs": [],
   "source": []
  }
 ],
 "metadata": {
  "kernelspec": {
   "display_name": "Python 3",
   "language": "python",
   "name": "python3"
  },
  "language_info": {
   "codemirror_mode": {
    "name": "ipython",
    "version": 3
   },
   "file_extension": ".py",
   "mimetype": "text/x-python",
   "name": "python",
   "nbconvert_exporter": "python",
   "pygments_lexer": "ipython3",
   "version": "3.6.5"
  }
 },
 "nbformat": 4,
 "nbformat_minor": 2
}
